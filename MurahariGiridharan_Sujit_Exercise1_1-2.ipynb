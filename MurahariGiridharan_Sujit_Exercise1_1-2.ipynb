{
  "cells": [
    {
      "cell_type": "markdown",
      "metadata": {
        "id": "view-in-github"
      },
      "source": [
        "<a href=\"https://colab.research.google.com/github/unt-iialab/INFO5731_Spring2020/blob/master/In_class_exercise/In_class_exercise_01.ipynb\" target=\"_parent\"><img src=\"https://colab.research.google.com/assets/colab-badge.svg\" alt=\"Open In Colab\"/></a>"
      ]
    },
    {
      "cell_type": "markdown",
      "metadata": {
        "id": "DymRJbxDBCnf"
      },
      "source": [
        "# **The first In-class-exercise (08/30/2023, 40 points in total)**\n",
        "This exercise is due tomorrow 08/31/203 11:59 PM.\n"
      ]
    },
    {
      "cell_type": "markdown",
      "source": [
        "(1) Write a Python program to calculate the area of a rectangle using user-input length and width."
      ],
      "metadata": {
        "id": "FBKvD6O_TY6e"
      }
    },
    {
      "cell_type": "code",
      "source": [
        "# write your answer here"
      ],
      "metadata": {
        "id": "cikVKDXdTbzE"
      },
      "execution_count": null,
      "outputs": []
    },
    {
      "cell_type": "markdown",
      "source": [
        "(2) Create a program that takes two numbers from the user and swaps their values without using a temporary variable."
      ],
      "metadata": {
        "id": "E9RqrlwdTfvl"
      }
    },
    {
      "cell_type": "code",
      "source": [
        "# write your answer here"
      ],
      "metadata": {
        "id": "4XvRknixTh1g"
      },
      "execution_count": null,
      "outputs": []
    },
    {
      "cell_type": "markdown",
      "metadata": {
        "id": "03jb4GZsBkBS"
      },
      "source": [
        "(3) Write a Python program to calculate the length of a string."
      ]
    },
    {
      "cell_type": "code",
      "execution_count": null,
      "metadata": {
        "id": "YaGLbSHHB8Ej"
      },
      "outputs": [],
      "source": [
        "# write your answer here\n"
      ]
    },
    {
      "cell_type": "markdown",
      "metadata": {
        "id": "jJDe71iLB616"
      },
      "source": [
        "(4) Write a Python program to count the number of characters in a string.\n",
        "\n",
        "Sample String : 'google.com‘,\n",
        "\n",
        "Expected Result : {'o': 3, 'g': 2, '.': 1, 'e': 1, 'l': 1, 'm': 1, 'c': 1}"
      ]
    },
    {
      "cell_type": "code",
      "execution_count": null,
      "metadata": {
        "id": "MtKskTzbCLaU"
      },
      "outputs": [],
      "source": [
        "# write your answer here\n"
      ]
    },
    {
      "cell_type": "markdown",
      "metadata": {
        "id": "55W9AMdXCSpV"
      },
      "source": [
        "(5) Write a Python program to sum all the items in a list."
      ]
    },
    {
      "cell_type": "code",
      "execution_count": null,
      "metadata": {
        "id": "I57NXsauCec2"
      },
      "outputs": [],
      "source": [
        "# write your answer here\n"
      ]
    },
    {
      "cell_type": "markdown",
      "metadata": {
        "id": "4ulBZ6yhCi9F"
      },
      "source": [
        "(6) Write a Python program to get a string from a given string where all occurrences of its first char have been changed to '\\$', except the first char itself.\n",
        "\n",
        "Sample String : 'restart‘,\n",
        "\n",
        "Expected Result : 'resta\\$t'"
      ]
    },
    {
      "cell_type": "code",
      "execution_count": null,
      "metadata": {
        "id": "Fj0XhwbBCw2o"
      },
      "outputs": [],
      "source": [
        "# write your answer here\n"
      ]
    },
    {
      "cell_type": "markdown",
      "source": [
        "(7) Create a program that calculates the factorial of a number using a while loop."
      ],
      "metadata": {
        "id": "qVXA3q7ET5JI"
      }
    },
    {
      "cell_type": "code",
      "source": [
        "# write your answer here"
      ],
      "metadata": {
        "id": "Lbt7R6UkT7BA"
      },
      "execution_count": null,
      "outputs": []
    },
    {
      "cell_type": "markdown",
      "source": [
        "(8) Create a program that takes a list of numbers as input and outputs a new list with only the even numbers."
      ],
      "metadata": {
        "id": "6YfbzXMNT--R"
      }
    },
    {
      "cell_type": "code",
      "source": [
        "# write your answer here"
      ],
      "metadata": {
        "id": "54q7wMQPUAKu"
      },
      "execution_count": null,
      "outputs": []
    },
    {
      "cell_type": "markdown",
      "metadata": {
        "id": "_bIP7s1MCzue"
      },
      "source": [
        "(9) Write a program with python which could accept two parameter a and b to calculate and output the result of S, where\n",
        "\n",
        "$\\ S=3.14*(1+a/b)^3$\n",
        "\n"
      ]
    },
    {
      "cell_type": "code",
      "execution_count": null,
      "metadata": {
        "id": "w79QilHXD3Mg"
      },
      "outputs": [],
      "source": [
        "# write your answer here\n"
      ]
    },
    {
      "cell_type": "markdown",
      "metadata": {
        "id": "xCa2bK9aD4Q3"
      },
      "source": [
        "(10) Write a Python program to concatenate following dictionaries to create a new one.\n",
        "\n",
        "Sample Dictionary : dic1={1:10, 2:20}, dic2={3:30, 4:40}, dic3={5:50,6:60},\n",
        "\n",
        "Expected Result : {1: 10, 2: 20, 3: 30, 4: 40, 5: 50, 6: 60}\n"
      ]
    },
    {
      "cell_type": "code",
      "execution_count": null,
      "metadata": {
        "id": "_z4aLqAbEET1"
      },
      "outputs": [],
      "source": [
        "# write your answer here\n"
      ]
    },
    {
      "cell_type": "markdown",
      "source": [
        "(11) Write a Python function that accepts a tuple of integers and returns the largest and smallest elements."
      ],
      "metadata": {
        "id": "bkyZ2xSZUOst"
      }
    },
    {
      "cell_type": "code",
      "source": [
        "# write your answer here"
      ],
      "metadata": {
        "id": "3FdLRBKOUQEd"
      },
      "execution_count": null,
      "outputs": []
    },
    {
      "cell_type": "markdown",
      "source": [
        "(12) Write a Python program that counts the frequency of each character in a given string and stores it in a dictionary."
      ],
      "metadata": {
        "id": "O0TVi3gKUTpp"
      }
    },
    {
      "cell_type": "code",
      "source": [
        "stringCount = input(\"Enter the String: \")#Input the values\n",
        "frequency = {}\n",
        "\n",
        "for each in stringCount: #Loop statement\n",
        "    if each in frequency:\n",
        "        frequency[each] += 1\n",
        "    else:\n",
        "        frequency[each] = 1\n",
        "\n",
        "print(frequency) #printing the frequency\n",
        "print(type(frequency)) #type"
      ],
      "metadata": {
        "id": "lAtfSfZXUU-h",
        "colab": {
          "base_uri": "https://localhost:8080/"
        },
        "outputId": "54fef7ec-f2a2-47e9-b772-6fe4db1157cd"
      },
      "execution_count": 1,
      "outputs": [
        {
          "output_type": "stream",
          "name": "stdout",
          "text": [
            "Enter the String: Sujit  Giridharan\n",
            "{'S': 1, 'u': 1, 'j': 1, 'i': 3, 't': 1, ' ': 2, 'G': 1, 'r': 2, 'd': 1, 'h': 1, 'a': 2, 'n': 1}\n",
            "<class 'dict'>\n"
          ]
        }
      ]
    },
    {
      "cell_type": "markdown",
      "metadata": {
        "id": "0v48Vqa7FrQh"
      },
      "source": [
        "(13) Write a Python program to check whether an element exists within a tuple."
      ]
    },
    {
      "cell_type": "code",
      "execution_count": 2,
      "metadata": {
        "id": "7WEmgq-DF2P1",
        "colab": {
          "base_uri": "https://localhost:8080/"
        },
        "outputId": "ccf48560-54f6-4681-a1bb-9ef8af6c38b7"
      },
      "outputs": [
        {
          "output_type": "stream",
          "name": "stdout",
          "text": [
            "Enter elements to Search33 \n",
            "33 exists\n"
          ]
        }
      ],
      "source": [
        "numbers = (1, 20 , 33, 40 , 50 , 6 , 7 ,8) #Input\n",
        "check = int(input(\"Enter elements to Search\")) #to check in the numbers\n",
        "\n",
        "if check in numbers: #To check if it exits\n",
        "  print(f\"{check} exists\")\n",
        "else:\n",
        "  print(f\"{check} does not exist\")"
      ]
    },
    {
      "cell_type": "markdown",
      "metadata": {
        "id": "vD5PYLMuGga_"
      },
      "source": [
        "(14) Write a Python program to find maximum and the minimum value in a set."
      ]
    },
    {
      "cell_type": "code",
      "execution_count": 3,
      "metadata": {
        "id": "t0D5kdJUGjjw",
        "colab": {
          "base_uri": "https://localhost:8080/"
        },
        "outputId": "aef7ebba-abc5-498d-9ed1-8e1bac31e8d8"
      },
      "outputs": [
        {
          "output_type": "stream",
          "name": "stdout",
          "text": [
            "Enter the numbers12 34 54 123 432 9 1\n",
            " The Max value is 432\n",
            " The Min value is 1\n"
          ]
        }
      ],
      "source": [
        "value = input(\"Enter the numbers\") #input the values\n",
        "value1 = value.split() # split the elements\n",
        "\n",
        "setNum = set(map(int, value1)) #converting into integers and create a set\n",
        "\n",
        "max = max(setNum)\n",
        "min = min(setNum)\n",
        "\n",
        "print(\" The Max value is\", max)#printing max value\n",
        "print(\" The Min value is\", min)#printing min value"
      ]
    },
    {
      "cell_type": "markdown",
      "metadata": {
        "id": "uHkd-y5VhVWC"
      },
      "source": [
        "(15) Write a Python program to randomly divide the students in this class into six groups for term projects, each group should have at least 4 students but no more than 6 students (including 6). Here is the students list:\n",
        "student_list_fall_2023=['sb1826' ,\n",
        " 'lb0582' ,\n",
        " 'ab1820' ,\n",
        " 'sb1883' ,\n",
        " 'mb1296' ,\n",
        " 'sc1622' ,\n",
        " 'tc0469' ,\n",
        " 'ac1770' ,\n",
        " 'mc1453' ,\n",
        " 'ad1187' ,\n",
        " 'sd0926' ,\n",
        " 'sd1268' ,\n",
        " 'ag1609' ,\n",
        " 'sg1638' ,\n",
        " 'mg1299' ,\n",
        " 'vkk0022' ,\n",
        " 'bk0413' ,\n",
        " 'gk0257' ,\n",
        " 'am2807' ,\n",
        " 'gm0558' ,\n",
        " 'pm0658' ,\n",
        " 'am2346' ,\n",
        " 'rm1090' ,\n",
        " 'sm2364' ,\n",
        " 'sm2747' ,\n",
        " 'sm2343' ,\n",
        " 'vm0597' ,\n",
        " 'htn0086' ,\n",
        " 'sp2075' ,\n",
        " 'gp0306' ,\n",
        " 'lp0502' ,\n",
        " 'sr1508' ,\n",
        " 'vr0331' ,\n",
        " 'yr0180' ,\n",
        " 'as2819' ,\n",
        " 'ss2981' ,\n",
        " 'ns0756' ,\n",
        " 'mt0825' ,\n",
        " 'dt0463' ,\n",
        " 'su0137' ,\n",
        " 'dv0310'\n",
        "]"
      ]
    },
    {
      "cell_type": "code",
      "execution_count": 4,
      "metadata": {
        "id": "3iGbmcOBhTwy",
        "colab": {
          "base_uri": "https://localhost:8080/"
        },
        "outputId": "692f6c18-0add-495b-e0ab-0b7a2e139449"
      },
      "outputs": [
        {
          "output_type": "stream",
          "name": "stdout",
          "text": [
            "['pm0658', 'gk0257', 'ag1609', 'lb0582', 'mt0825', 'am2807']\n",
            "['sp2075', 'htn0086', 'ss2981', 'su0137', 'mb1296', 'sb1883']\n",
            "['am2346', 'sd0926', 'dt0463', 'sb1826', 'gm0558', 'gp0306']\n",
            "['sm2747', 'ns0756', 'dv0310', 'sr1508', 'ad1187', 'ab1820']\n",
            "['sm2343', 'mg1299', 'yr0180', 'lp0502', 'sg1638', 'mc1453']\n",
            "['tc0469', 'sm2364', 'ac1770', 'vr0331', 'as2819', 'rm1090']\n"
          ]
        }
      ],
      "source": [
        "import random #importing random\n",
        "\n",
        "student_list_fall_2023=['sb1826' , 'lb0582' , 'ab1820' , 'sb1883' , 'mb1296' , 'sc1622' , 'tc0469' , 'ac1770' , 'mc1453' , 'ad1187' , 'sd0926' , 'sd1268' , 'ag1609' , 'sg1638' , 'mg1299' , 'vkk0022' , 'bk0413' , 'gk0257' , 'am2807' , 'gm0558' , 'pm0658' , 'am2346' , 'rm1090' , 'sm2364' , 'sm2747' , 'sm2343' , 'vm0597' , 'htn0086' , 'sp2075' , 'gp0306' , 'lp0502' , 'sr1508' , 'vr0331' , 'yr0180' , 'as2819' , 'ss2981' , 'ns0756' , 'mt0825' , 'dt0463' , 'su0137' , 'dv0310' ]\n",
        "\n",
        "random.shuffle(student_list_fall_2023) #shuffling the list\n",
        "\n",
        "size = 6\n",
        "count =len(student_list_fall_2023) // size\n",
        "#dividing into groups\n",
        "group =[student_list_fall_2023[each*size :(each +1)* size] for each in range(count)]\n",
        "\n",
        "for each, group in enumerate(group):\n",
        "  print(group) #printing the groups\n"
      ]
    },
    {
      "cell_type": "markdown",
      "metadata": {
        "id": "fmZ9vX20Qs3d"
      },
      "source": [
        "(16) Write a Python program to find the duplicate elements in a given array of integers. Return -1 If there are no such elements."
      ]
    },
    {
      "cell_type": "code",
      "execution_count": 5,
      "metadata": {
        "id": "W8Jw6sWMQs3d",
        "colab": {
          "base_uri": "https://localhost:8080/"
        },
        "outputId": "02cb2dac-04e5-465a-ff1b-b8694c96f993"
      },
      "outputs": [
        {
          "output_type": "stream",
          "name": "stdout",
          "text": [
            "Duplicates [2, 3, 4, 5, 6]\n"
          ]
        }
      ],
      "source": [
        "def duplicates(arr):\n",
        "  duplicates =[] #for storing duplicates\n",
        "\n",
        "  for each in arr: #loop to check if it appers more than once\n",
        "    if arr.count(each) > 1 and each not in duplicates:\n",
        "      duplicates.append(each)\n",
        "\n",
        "  if not duplicates: #retuen -1 if no duplicates\n",
        "    return -1\n",
        "\n",
        "  else:\n",
        "    return duplicates\n",
        "\n",
        "valuearray = [2,3,4,5,6,7,1,2,4,5,5,4,3,6] #input values\n",
        "final = duplicates(valuearray)\n",
        "\n",
        "if final == -1:\n",
        "  print(\"No Duplicates\") #print\n",
        "else:\n",
        "  print(\"Duplicates\", final) # print\n",
        "\n"
      ]
    },
    {
      "cell_type": "markdown",
      "metadata": {
        "id": "hvq4APMhQs3d"
      },
      "source": [
        "(17) Write a Python program to select all the Sundays of a specified year."
      ]
    },
    {
      "cell_type": "code",
      "execution_count": 6,
      "metadata": {
        "id": "ZnoxhSglQs3d",
        "colab": {
          "base_uri": "https://localhost:8080/"
        },
        "outputId": "8a9ea652-84ec-45cb-949f-23da20f0966e"
      },
      "outputs": [
        {
          "output_type": "stream",
          "name": "stdout",
          "text": [
            "Enter the Year: 1995\n",
            "1995-01-01\n",
            "1995-01-08\n",
            "1995-01-15\n",
            "1995-01-22\n",
            "1995-01-29\n",
            "1995-02-05\n",
            "1995-02-12\n",
            "1995-02-19\n",
            "1995-02-26\n",
            "1995-03-05\n",
            "1995-03-12\n",
            "1995-03-19\n",
            "1995-03-26\n",
            "1995-04-02\n",
            "1995-04-09\n",
            "1995-04-16\n",
            "1995-04-23\n",
            "1995-04-30\n",
            "1995-05-07\n",
            "1995-05-14\n",
            "1995-05-21\n",
            "1995-05-28\n",
            "1995-06-04\n",
            "1995-06-11\n",
            "1995-06-18\n",
            "1995-06-25\n",
            "1995-07-02\n",
            "1995-07-09\n",
            "1995-07-16\n",
            "1995-07-23\n",
            "1995-07-30\n",
            "1995-08-06\n",
            "1995-08-13\n",
            "1995-08-20\n",
            "1995-08-27\n",
            "1995-09-03\n",
            "1995-09-10\n",
            "1995-09-17\n",
            "1995-09-24\n",
            "1995-10-01\n",
            "1995-10-08\n",
            "1995-10-15\n",
            "1995-10-22\n",
            "1995-10-29\n",
            "1995-11-05\n",
            "1995-11-12\n",
            "1995-11-19\n",
            "1995-11-26\n",
            "1995-12-03\n",
            "1995-12-10\n",
            "1995-12-17\n",
            "1995-12-24\n",
            "1995-12-31\n"
          ]
        }
      ],
      "source": [
        "import datetime #import datetime\n",
        "\n",
        "year =int(input(\"Enter the Year: \")) #input for the year\n",
        "\n",
        "for mon in range(1, 13): #loop to check Sundays\n",
        "  for day in range(1,32):\n",
        "    try:\n",
        "        date = datetime.date(year, mon, day)\n",
        "        if date.weekday()==6: #6 is represented by Sunday\n",
        "          print(date)\n",
        "    except ValueError:\n",
        "          break\n"
      ]
    },
    {
      "cell_type": "markdown",
      "source": [
        "(18) Build a program that calculates the factorial of a given positive integer. The factorial of a non-negative integer n is the product of all positive integers less than or equal to n."
      ],
      "metadata": {
        "id": "55FWoSJPVVM6"
      }
    },
    {
      "cell_type": "code",
      "source": [
        "postiveInt = int(input(\"Enter Positive Number \")) #input for psitiveinteger\n",
        "\n",
        "#Calculating Factorial\n",
        "fac = 1\n",
        "for each in range(1, postiveInt+1):\n",
        "  fac*=each\n",
        "print(\"Factorial is\", fac) #Printing the output"
      ],
      "metadata": {
        "id": "hwtr1wZmVX5A",
        "colab": {
          "base_uri": "https://localhost:8080/"
        },
        "outputId": "4a817657-367c-4aea-e849-6d1f0593c056"
      },
      "execution_count": 7,
      "outputs": [
        {
          "output_type": "stream",
          "name": "stdout",
          "text": [
            "Enter Positive Number 23\n",
            "Factorial is 25852016738884976640000\n"
          ]
        }
      ]
    },
    {
      "cell_type": "markdown",
      "source": [
        "(19) Write a program that takes a positive integer n as input and prints the count of even numbers from 1 to n. Use a loop to iterate through the numbers and utilize the break statement to optimize the loop."
      ],
      "metadata": {
        "id": "Q9ecagcaVazW"
      }
    },
    {
      "cell_type": "code",
      "source": [
        "n = int(input(\"Enter Positive Number\")) #input of the file\n",
        "countEven = 0 #to count the even numbers\n",
        "\n",
        "for each in range(1, n+1): #loop to check even numbers\n",
        "  if each%2==0:\n",
        "    countEven +=1\n",
        "print(\"Even Numbers are: \", countEven) #printing the output"
      ],
      "metadata": {
        "id": "gycgckoAVZjR",
        "colab": {
          "base_uri": "https://localhost:8080/"
        },
        "outputId": "745b94a8-b8f6-4944-f5e6-58fa33adf0c5"
      },
      "execution_count": 8,
      "outputs": [
        {
          "output_type": "stream",
          "name": "stdout",
          "text": [
            "Enter Positive Number36\n",
            "Even Numbers are:  18\n"
          ]
        }
      ]
    },
    {
      "cell_type": "markdown",
      "source": [
        "(20) Write a Python function called count_vowels that takes a string as input and returns the count of vowels (both lowercase and uppercase) present in the string. Consider the vowels to be 'a', 'e', 'i', 'o', and 'u'. Ignore spaces and other non-alphabetic characters."
      ],
      "metadata": {
        "id": "cboAr5pEWUf5"
      }
    },
    {
      "cell_type": "code",
      "source": [
        "def countVowels(inputVal): #to count the no of vowels\n",
        "  vowels ='aeiouAEIOU'\n",
        "  return sum(1 for each in inputValues if each in vowels)\n",
        "\n",
        "inputValues = input(\"Enter the String \") # input the string\n",
        "countvowels = countVowels(inputValues)\n",
        "print(\"Number of Vowels: \", countvowels) #Output the values"
      ],
      "metadata": {
        "id": "phs9gciMWWAW",
        "colab": {
          "base_uri": "https://localhost:8080/"
        },
        "outputId": "dc11fde8-1b92-419b-aa7b-540d66a3da88"
      },
      "execution_count": 9,
      "outputs": [
        {
          "output_type": "stream",
          "name": "stdout",
          "text": [
            "Enter the String Sujit Giridharan in class assignment\n",
            "Number of Vowels:  11\n"
          ]
        }
      ]
    },
    {
      "cell_type": "code",
      "source": [],
      "metadata": {
        "id": "CEmPArcmAX_3"
      },
      "execution_count": null,
      "outputs": []
    }
  ],
  "metadata": {
    "colab": {
      "provenance": []
    },
    "kernelspec": {
      "display_name": "Python 3 (ipykernel)",
      "language": "python",
      "name": "python3"
    },
    "language_info": {
      "codemirror_mode": {
        "name": "ipython",
        "version": 3
      },
      "file_extension": ".py",
      "mimetype": "text/x-python",
      "name": "python",
      "nbconvert_exporter": "python",
      "pygments_lexer": "ipython3",
      "version": "3.9.12"
    }
  },
  "nbformat": 4,
  "nbformat_minor": 0
}