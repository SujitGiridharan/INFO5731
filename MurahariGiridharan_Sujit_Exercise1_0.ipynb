{
  "cells": [
    {
      "cell_type": "markdown",
      "metadata": {
        "id": "view-in-github"
      },
      "source": [
        "<a href=\"https://colab.research.google.com/github/unt-iialab/INFO5731_Spring2020/blob/master/In_class_exercise/In_class_exercise_01.ipynb\" target=\"_parent\"><img src=\"https://colab.research.google.com/assets/colab-badge.svg\" alt=\"Open In Colab\"/></a>"
      ]
    },
    {
      "cell_type": "markdown",
      "metadata": {
        "id": "DymRJbxDBCnf"
      },
      "source": [
        "# **The first In-class-exercise (08/30/2023, 40 points in total)**\n",
        "This exercise is due tomorrow 08/31/203 11:59 PM.\n"
      ]
    },
    {
      "cell_type": "markdown",
      "source": [
        "(1) Write a Python program to calculate the area of a rectangle using user-input length and width."
      ],
      "metadata": {
        "id": "FBKvD6O_TY6e"
      }
    },
    {
      "cell_type": "code",
      "source": [
        "lenght = float(input(\"Enter the Length\")) # Asking user the input of the length\n",
        "width = float(input(\"Enter the Width\")) #Asking user the input of the width\n",
        "areaofRectangle = lenght*width # Calculating the area of rectangle\n",
        "print(\"The area of a Rectangle is : \",areaofRectangle) #printing the area of a rectangle"
      ],
      "metadata": {
        "id": "cikVKDXdTbzE",
        "colab": {
          "base_uri": "https://localhost:8080/"
        },
        "outputId": "5bb6a52c-dc47-4ee2-ca8a-68c232b95497"
      },
      "execution_count": 1,
      "outputs": [
        {
          "output_type": "stream",
          "name": "stdout",
          "text": [
            "Enter the Length10\n",
            "Enter the Width20\n",
            "The area of a Rectangle is :  200.0\n"
          ]
        }
      ]
    },
    {
      "cell_type": "markdown",
      "source": [
        "(2) Create a program that takes two numbers from the user and swaps their values without using a temporary variable."
      ],
      "metadata": {
        "id": "E9RqrlwdTfvl"
      }
    },
    {
      "cell_type": "code",
      "source": [
        "firstNumber = input(\"Enter the First Number :\") #Input to ask for the first number\n",
        "secondNumber = input(\"Enter the Second Number: \") #Input to ask for the second number\n",
        "\n",
        "firstNumber, secondNumber = secondNumber, firstNumber #a menthod called tuple unpacking is used to swap the numbers without using the third variable\n",
        "\n",
        "print(\"After Swaping it is\", firstNumber, secondNumber) #Printing the values after swaping\n"
      ],
      "metadata": {
        "id": "4XvRknixTh1g",
        "colab": {
          "base_uri": "https://localhost:8080/"
        },
        "outputId": "228f8ef7-de17-408e-9d6a-d4553ba1700c"
      },
      "execution_count": 2,
      "outputs": [
        {
          "output_type": "stream",
          "name": "stdout",
          "text": [
            "Enter the First Number :12\n",
            "Enter the Second Number: 08\n",
            "After Swaping it is 08 12\n"
          ]
        }
      ]
    },
    {
      "cell_type": "markdown",
      "metadata": {
        "id": "03jb4GZsBkBS"
      },
      "source": [
        "(3) Write a Python program to calculate the length of a string."
      ]
    },
    {
      "cell_type": "code",
      "execution_count": 3,
      "metadata": {
        "id": "YaGLbSHHB8Ej",
        "colab": {
          "base_uri": "https://localhost:8080/"
        },
        "outputId": "81789969-0b0d-40e5-fd1e-977a6842bf6b"
      },
      "outputs": [
        {
          "output_type": "stream",
          "name": "stdout",
          "text": [
            "Enter the string: Sujit\n",
            "The Length of the String is: 5\n"
          ]
        }
      ],
      "source": [
        "findLength = input(\"Enter the string: \") #input to enter the string\n",
        "print(\"The Length of the String is:\", len(findLength)) #printing the length using the len funtion"
      ]
    },
    {
      "cell_type": "markdown",
      "metadata": {
        "id": "jJDe71iLB616"
      },
      "source": [
        "(4) Write a Python program to count the number of characters in a string.\n",
        "\n",
        "Sample String : 'google.com‘,\n",
        "\n",
        "Expected Result : {'o': 3, 'g': 2, '.': 1, 'e': 1, 'l': 1, 'm': 1, 'c': 1}"
      ]
    },
    {
      "cell_type": "code",
      "execution_count": 4,
      "metadata": {
        "id": "MtKskTzbCLaU",
        "colab": {
          "base_uri": "https://localhost:8080/"
        },
        "outputId": "29166b55-fe81-4d45-bd9f-4f24c50974c0"
      },
      "outputs": [
        {
          "output_type": "stream",
          "name": "stdout",
          "text": [
            "Enter the String: Sujit Giridharan\n",
            "The. number of Characters in the String are  {'S': 1, 'u': 1, 'j': 1, 'i': 3, 't': 1, ' ': 1, 'G': 1, 'r': 2, 'd': 1, 'h': 1, 'a': 2, 'n': 1}\n"
          ]
        }
      ],
      "source": [
        "LetsCounttheString = input(\"Enter the String: \") #input of the string\n",
        "charCount ={}\n",
        "\n",
        "for char in LetsCounttheString:  #Calculating each number char in the string\n",
        "  if char in charCount:\n",
        "    charCount[char] +=1\n",
        "  else:\n",
        "    charCount[char] =1\n",
        "\n",
        "print(\"The. number of Characters in the String are \", charCount) #printing the char in the string"
      ]
    },
    {
      "cell_type": "markdown",
      "metadata": {
        "id": "55W9AMdXCSpV"
      },
      "source": [
        "(5) Write a Python program to sum all the items in a list."
      ]
    },
    {
      "cell_type": "code",
      "execution_count": 5,
      "metadata": {
        "id": "I57NXsauCec2",
        "colab": {
          "base_uri": "https://localhost:8080/"
        },
        "outputId": "2165c53e-cde3-4078-8bd5-2d3e5cfc0064"
      },
      "outputs": [
        {
          "output_type": "stream",
          "name": "stdout",
          "text": [
            "Enter the items with space: 10 20 30 40 12 432 123\n",
            "Sum of the Numbers:  667.0\n"
          ]
        }
      ],
      "source": [
        "splitList = input(\"Enter the items with space: \").split() # input the number and using the split function to split the numbers\n",
        "\n",
        "num = [float(item) for item in splitList]\n",
        "\n",
        "sumTotal = sum(map(float, splitList)) #sum each number in the splitlist using the Map function\n",
        "print(\"Sum of the Numbers: \", sumTotal) #printing the sum of numbers"
      ]
    },
    {
      "cell_type": "markdown",
      "metadata": {
        "id": "4ulBZ6yhCi9F"
      },
      "source": [
        "(6) Write a Python program to get a string from a given string where all occurrences of its first char have been changed to '\\$', except the first char itself.\n",
        "\n",
        "Sample String : 'restart‘,\n",
        "\n",
        "Expected Result : 'resta\\$t'"
      ]
    },
    {
      "cell_type": "code",
      "execution_count": 6,
      "metadata": {
        "id": "Fj0XhwbBCw2o",
        "colab": {
          "base_uri": "https://localhost:8080/"
        },
        "outputId": "afaa45f1-a7a8-4f4d-c665-0452dd04709d"
      },
      "outputs": [
        {
          "output_type": "stream",
          "name": "stdout",
          "text": [
            "Enter the String: SujSt GiSidharan\n",
            "The Output is  Suj$t Gi$idharan\n"
          ]
        }
      ],
      "source": [
        "inputString = input(\"Enter the String: \") #input of the string\n",
        "firstChar = inputString[0] #taking the firstchar in the inputString\n",
        "finaltoChange = firstChar + inputString[1:].replace(firstChar,'$') #Replacing each 2nd Char with $\n",
        "print(\"The Output is \", finaltoChange) #printing the output"
      ]
    },
    {
      "cell_type": "markdown",
      "source": [
        "(7) Create a program that calculates the factorial of a number using a while loop."
      ],
      "metadata": {
        "id": "qVXA3q7ET5JI"
      }
    },
    {
      "cell_type": "code",
      "source": [
        "value = int(input(\"Enter a Number: \")) #input a number\n",
        "fac = 1 #factorial delaring it starts with 1\n",
        "while value > 1: #If its > 1 then it gets mutipled\n",
        "  fac*= value\n",
        "  value-= 1\n",
        "print(\"The Factorial is: \", fac) #print the value\n",
        "\n"
      ],
      "metadata": {
        "id": "Lbt7R6UkT7BA",
        "colab": {
          "base_uri": "https://localhost:8080/"
        },
        "outputId": "32bc1143-aaaa-4060-8467-d9626ddad7b3"
      },
      "execution_count": 7,
      "outputs": [
        {
          "output_type": "stream",
          "name": "stdout",
          "text": [
            "Enter a Number: 10\n",
            "The Factorial is:  3628800\n"
          ]
        }
      ]
    },
    {
      "cell_type": "markdown",
      "source": [
        "(8) Create a program that takes a list of numbers as input and outputs a new list with only the even numbers."
      ],
      "metadata": {
        "id": "6YfbzXMNT--R"
      }
    },
    {
      "cell_type": "code",
      "source": [
        "input1 = input(\"Enter the numbers: \").split() #input the number and split the numbers\n",
        "\n",
        "evenNumbers = [int(item) for item in input1 if int(item) % 2 == 0] #Taking out the even numbers and storing in even Numbers\n",
        "\n",
        "print(\"The Even Numbers are: \", evenNumbers) #Printing the value"
      ],
      "metadata": {
        "id": "54q7wMQPUAKu",
        "colab": {
          "base_uri": "https://localhost:8080/"
        },
        "outputId": "4141299c-8071-4ea0-f299-0a23e46e7d70"
      },
      "execution_count": 8,
      "outputs": [
        {
          "output_type": "stream",
          "name": "stdout",
          "text": [
            "Enter the numbers: 1 2 3 4 5 6 7 8 9 0\n",
            "The Even Numbers are:  [2, 4, 6, 8, 0]\n"
          ]
        }
      ]
    },
    {
      "cell_type": "markdown",
      "metadata": {
        "id": "_bIP7s1MCzue"
      },
      "source": [
        "(9) Write a program with python which could accept two parameter a and b to calculate and output the result of S, where\n",
        "\n",
        "$\\ S=3.14*(1+a/b)^3$\n",
        "\n"
      ]
    },
    {
      "cell_type": "code",
      "execution_count": 9,
      "metadata": {
        "id": "w79QilHXD3Mg",
        "colab": {
          "base_uri": "https://localhost:8080/"
        },
        "outputId": "c79e1b27-52d2-4208-dfc1-12159d93f081"
      },
      "outputs": [
        {
          "output_type": "stream",
          "name": "stdout",
          "text": [
            "Entet the value of a 12\n",
            "Enter the Value of b 14\n",
            " The Rrsult of S is:  20.112478134110788\n"
          ]
        }
      ],
      "source": [
        "a =float(input(\"Entet the value of a \")) # input value of A\n",
        "b = float(input(\"Enter the Value of b \")) #input Value of B\n",
        "\n",
        "S = 3.14*(1+ a / b) ** 3 #Calculating using the given formulae\n",
        "\n",
        "print(\" The Rrsult of S is: \", S) #printing the value"
      ]
    },
    {
      "cell_type": "markdown",
      "metadata": {
        "id": "xCa2bK9aD4Q3"
      },
      "source": [
        "(10) Write a Python program to concatenate following dictionaries to create a new one.\n",
        "\n",
        "Sample Dictionary : dic1={1:10, 2:20}, dic2={3:30, 4:40}, dic3={5:50,6:60},\n",
        "\n",
        "Expected Result : {1: 10, 2: 20, 3: 30, 4: 40, 5: 50, 6: 60}\n"
      ]
    },
    {
      "cell_type": "code",
      "execution_count": 10,
      "metadata": {
        "id": "_z4aLqAbEET1",
        "colab": {
          "base_uri": "https://localhost:8080/"
        },
        "outputId": "20195072-7abb-44bd-ddc4-1bf4a16d9289"
      },
      "outputs": [
        {
          "output_type": "stream",
          "name": "stdout",
          "text": [
            "{1: 10, 2: 20, 3: 30, 4: 40, 5: 50, 6: 60}\n"
          ]
        }
      ],
      "source": [
        "dic1={1:10, 2:20}\n",
        "dic2={3:30, 4:40}\n",
        "dic3={5:50, 6:60}\n",
        "\n",
        "finalResult = {}\n",
        "\n",
        "for dictionaries in (dic1, dic2, dic3): #Combining all the dic into one\n",
        "  finalResult.update(dictionaries)\n",
        "print(finalResult)"
      ]
    },
    {
      "cell_type": "markdown",
      "source": [
        "(11) Write a Python function that accepts a tuple of integers and returns the largest and smallest elements."
      ],
      "metadata": {
        "id": "bkyZ2xSZUOst"
      }
    },
    {
      "cell_type": "code",
      "source": [
        "def largest2Smallest(num): #def to return max and min values\n",
        "  return max(num), min(num)\n",
        "\n",
        "input = (423,23423,4232,23123,12312432,32523234) #input\n",
        "large, small = largest2Smallest(input)\n",
        "\n",
        "print(\"Largest: \", large) #printing the largest\n",
        "print(\"Small: \", small) #printing the smallest"
      ],
      "metadata": {
        "id": "3FdLRBKOUQEd",
        "colab": {
          "base_uri": "https://localhost:8080/"
        },
        "outputId": "3799aa79-7c35-4139-a2c2-6c2b170e1660"
      },
      "execution_count": 11,
      "outputs": [
        {
          "output_type": "stream",
          "name": "stdout",
          "text": [
            "Largest:  32523234\n",
            "Small:  423\n"
          ]
        }
      ]
    },
    {
      "cell_type": "markdown",
      "source": [
        "(12) Write a Python program that counts the frequency of each character in a given string and stores it in a dictionary."
      ],
      "metadata": {
        "id": "O0TVi3gKUTpp"
      }
    },
    {
      "cell_type": "code",
      "source": [
        "stringCount = input(\"Enter the String: \")\n",
        "frequency = {}\n",
        "\n",
        "for each in stringCount:\n",
        "    if each in frequency:\n",
        "        frequency[each] += 1\n",
        "    else:\n",
        "        frequency[each] = 1\n",
        "\n",
        "print(frequency)\n",
        "print(type(frequency))"
      ],
      "metadata": {
        "id": "lAtfSfZXUU-h",
        "colab": {
          "base_uri": "https://localhost:8080/",
          "height": 242
        },
        "outputId": "2a5fb345-60b9-4dfd-cd7a-981403a61a62"
      },
      "execution_count": 13,
      "outputs": [
        {
          "output_type": "error",
          "ename": "TypeError",
          "evalue": "ignored",
          "traceback": [
            "\u001b[0;31m---------------------------------------------------------------------------\u001b[0m",
            "\u001b[0;31mTypeError\u001b[0m                                 Traceback (most recent call last)",
            "\u001b[0;32m<ipython-input-13-e3fda7b0ec69>\u001b[0m in \u001b[0;36m<cell line: 1>\u001b[0;34m()\u001b[0m\n\u001b[0;32m----> 1\u001b[0;31m \u001b[0mstringCount\u001b[0m \u001b[0;34m=\u001b[0m \u001b[0minput\u001b[0m\u001b[0;34m(\u001b[0m\u001b[0;34m\"Enter the String: \"\u001b[0m\u001b[0;34m)\u001b[0m\u001b[0;34m\u001b[0m\u001b[0;34m\u001b[0m\u001b[0m\n\u001b[0m\u001b[1;32m      2\u001b[0m \u001b[0mfrequency\u001b[0m \u001b[0;34m=\u001b[0m \u001b[0;34m{\u001b[0m\u001b[0;34m}\u001b[0m\u001b[0;34m\u001b[0m\u001b[0;34m\u001b[0m\u001b[0m\n\u001b[1;32m      3\u001b[0m \u001b[0;34m\u001b[0m\u001b[0m\n\u001b[1;32m      4\u001b[0m \u001b[0;32mfor\u001b[0m \u001b[0meach\u001b[0m \u001b[0;32min\u001b[0m \u001b[0mstringCount\u001b[0m\u001b[0;34m:\u001b[0m\u001b[0;34m\u001b[0m\u001b[0;34m\u001b[0m\u001b[0m\n\u001b[1;32m      5\u001b[0m     \u001b[0;32mif\u001b[0m \u001b[0meach\u001b[0m \u001b[0;32min\u001b[0m \u001b[0mfrequency\u001b[0m\u001b[0;34m:\u001b[0m\u001b[0;34m\u001b[0m\u001b[0;34m\u001b[0m\u001b[0m\n",
            "\u001b[0;31mTypeError\u001b[0m: 'tuple' object is not callable"
          ]
        }
      ]
    },
    {
      "cell_type": "markdown",
      "metadata": {
        "id": "0v48Vqa7FrQh"
      },
      "source": [
        "(13) Write a Python program to check whether an element exists within a tuple."
      ]
    },
    {
      "cell_type": "code",
      "execution_count": 14,
      "metadata": {
        "id": "7WEmgq-DF2P1",
        "colab": {
          "base_uri": "https://localhost:8080/",
          "height": 242
        },
        "outputId": "ea15cde1-ad45-4dab-bf39-1d474e0017ec"
      },
      "outputs": [
        {
          "output_type": "error",
          "ename": "TypeError",
          "evalue": "ignored",
          "traceback": [
            "\u001b[0;31m---------------------------------------------------------------------------\u001b[0m",
            "\u001b[0;31mTypeError\u001b[0m                                 Traceback (most recent call last)",
            "\u001b[0;32m<ipython-input-14-7648a9f60a9d>\u001b[0m in \u001b[0;36m<cell line: 2>\u001b[0;34m()\u001b[0m\n\u001b[1;32m      1\u001b[0m \u001b[0mnumbers\u001b[0m \u001b[0;34m=\u001b[0m \u001b[0;34m(\u001b[0m\u001b[0;36m1\u001b[0m\u001b[0;34m,\u001b[0m \u001b[0;36m20\u001b[0m \u001b[0;34m,\u001b[0m \u001b[0;36m33\u001b[0m\u001b[0;34m,\u001b[0m \u001b[0;36m40\u001b[0m \u001b[0;34m,\u001b[0m \u001b[0;36m50\u001b[0m \u001b[0;34m,\u001b[0m \u001b[0;36m6\u001b[0m \u001b[0;34m,\u001b[0m \u001b[0;36m7\u001b[0m \u001b[0;34m,\u001b[0m\u001b[0;36m8\u001b[0m\u001b[0;34m)\u001b[0m \u001b[0;31m#Input\u001b[0m\u001b[0;34m\u001b[0m\u001b[0;34m\u001b[0m\u001b[0m\n\u001b[0;32m----> 2\u001b[0;31m \u001b[0mcheck\u001b[0m \u001b[0;34m=\u001b[0m \u001b[0mint\u001b[0m\u001b[0;34m(\u001b[0m\u001b[0minput\u001b[0m\u001b[0;34m(\u001b[0m\u001b[0;34m\"Enter elements to Search\"\u001b[0m\u001b[0;34m)\u001b[0m\u001b[0;34m)\u001b[0m \u001b[0;31m#to check in the numbers\u001b[0m\u001b[0;34m\u001b[0m\u001b[0;34m\u001b[0m\u001b[0m\n\u001b[0m\u001b[1;32m      3\u001b[0m \u001b[0;34m\u001b[0m\u001b[0m\n\u001b[1;32m      4\u001b[0m \u001b[0;32mif\u001b[0m \u001b[0mcheck\u001b[0m \u001b[0;32min\u001b[0m \u001b[0mnumbers\u001b[0m\u001b[0;34m:\u001b[0m \u001b[0;31m#To check if it exits\u001b[0m\u001b[0;34m\u001b[0m\u001b[0;34m\u001b[0m\u001b[0m\n\u001b[1;32m      5\u001b[0m   \u001b[0mprint\u001b[0m\u001b[0;34m(\u001b[0m\u001b[0;34mf\"{check} exists\"\u001b[0m\u001b[0;34m)\u001b[0m\u001b[0;34m\u001b[0m\u001b[0;34m\u001b[0m\u001b[0m\n",
            "\u001b[0;31mTypeError\u001b[0m: 'tuple' object is not callable"
          ]
        }
      ],
      "source": [
        "numbers = (1, 20 , 33, 40 , 50 , 6 , 7 ,8) #Input\n",
        "check = int(input(\"Enter elements to Search\")) #to check in the numbers\n",
        "\n",
        "if check in numbers: #To check if it exits\n",
        "  print(f\"{check} exists\")\n",
        "else:\n",
        "  print(f\"{check} does not exist\")"
      ]
    },
    {
      "cell_type": "markdown",
      "metadata": {
        "id": "vD5PYLMuGga_"
      },
      "source": [
        "(14) Write a Python program to find maximum and the minimum value in a set."
      ]
    },
    {
      "cell_type": "code",
      "execution_count": null,
      "metadata": {
        "id": "t0D5kdJUGjjw"
      },
      "outputs": [],
      "source": [
        "# write your answer here\n"
      ]
    },
    {
      "cell_type": "markdown",
      "metadata": {
        "id": "uHkd-y5VhVWC"
      },
      "source": [
        "(15) Write a Python program to randomly divide the students in this class into six groups for term projects, each group should have at least 4 students but no more than 6 students (including 6). Here is the students list:\n",
        "student_list_fall_2023=['sb1826' ,\n",
        " 'lb0582' ,\n",
        " 'ab1820' ,\n",
        " 'sb1883' ,\n",
        " 'mb1296' ,\n",
        " 'sc1622' ,\n",
        " 'tc0469' ,\n",
        " 'ac1770' ,\n",
        " 'mc1453' ,\n",
        " 'ad1187' ,\n",
        " 'sd0926' ,\n",
        " 'sd1268' ,\n",
        " 'ag1609' ,\n",
        " 'sg1638' ,\n",
        " 'mg1299' ,\n",
        " 'vkk0022' ,\n",
        " 'bk0413' ,\n",
        " 'gk0257' ,\n",
        " 'am2807' ,\n",
        " 'gm0558' ,\n",
        " 'pm0658' ,\n",
        " 'am2346' ,\n",
        " 'rm1090' ,\n",
        " 'sm2364' ,\n",
        " 'sm2747' ,\n",
        " 'sm2343' ,\n",
        " 'vm0597' ,\n",
        " 'htn0086' ,\n",
        " 'sp2075' ,\n",
        " 'gp0306' ,\n",
        " 'lp0502' ,\n",
        " 'sr1508' ,\n",
        " 'vr0331' ,\n",
        " 'yr0180' ,\n",
        " 'as2819' ,\n",
        " 'ss2981' ,\n",
        " 'ns0756' ,\n",
        " 'mt0825' ,\n",
        " 'dt0463' ,\n",
        " 'su0137' ,\n",
        " 'dv0310'\n",
        "]"
      ]
    },
    {
      "cell_type": "code",
      "execution_count": null,
      "metadata": {
        "id": "3iGbmcOBhTwy"
      },
      "outputs": [],
      "source": [
        "# write your answer here\n"
      ]
    },
    {
      "cell_type": "markdown",
      "metadata": {
        "id": "fmZ9vX20Qs3d"
      },
      "source": [
        "(16) Write a Python program to find the duplicate elements in a given array of integers. Return -1 If there are no such elements."
      ]
    },
    {
      "cell_type": "code",
      "execution_count": null,
      "metadata": {
        "id": "W8Jw6sWMQs3d"
      },
      "outputs": [],
      "source": [
        "# write your answer here\n"
      ]
    },
    {
      "cell_type": "markdown",
      "metadata": {
        "id": "hvq4APMhQs3d"
      },
      "source": [
        "(17) Write a Python program to select all the Sundays of a specified year."
      ]
    },
    {
      "cell_type": "code",
      "execution_count": null,
      "metadata": {
        "id": "ZnoxhSglQs3d"
      },
      "outputs": [],
      "source": [
        "# write your answer here\n"
      ]
    },
    {
      "cell_type": "markdown",
      "source": [
        "(18) Build a program that calculates the factorial of a given positive integer. The factorial of a non-negative integer n is the product of all positive integers less than or equal to n."
      ],
      "metadata": {
        "id": "55FWoSJPVVM6"
      }
    },
    {
      "cell_type": "code",
      "source": [
        "# write your answer here\n"
      ],
      "metadata": {
        "id": "hwtr1wZmVX5A"
      },
      "execution_count": null,
      "outputs": []
    },
    {
      "cell_type": "markdown",
      "source": [
        "(19) Write a program that takes a positive integer n as input and prints the count of even numbers from 1 to n. Use a loop to iterate through the numbers and utilize the break statement to optimize the loop."
      ],
      "metadata": {
        "id": "Q9ecagcaVazW"
      }
    },
    {
      "cell_type": "code",
      "source": [
        "# write your answer here\n"
      ],
      "metadata": {
        "id": "gycgckoAVZjR"
      },
      "execution_count": null,
      "outputs": []
    },
    {
      "cell_type": "markdown",
      "source": [
        "(20) Write a Python function called count_vowels that takes a string as input and returns the count of vowels (both lowercase and uppercase) present in the string. Consider the vowels to be 'a', 'e', 'i', 'o', and 'u'. Ignore spaces and other non-alphabetic characters."
      ],
      "metadata": {
        "id": "cboAr5pEWUf5"
      }
    },
    {
      "cell_type": "code",
      "source": [
        "# write your answer here\n"
      ],
      "metadata": {
        "id": "phs9gciMWWAW"
      },
      "execution_count": null,
      "outputs": []
    }
  ],
  "metadata": {
    "colab": {
      "provenance": []
    },
    "kernelspec": {
      "display_name": "Python 3 (ipykernel)",
      "language": "python",
      "name": "python3"
    },
    "language_info": {
      "codemirror_mode": {
        "name": "ipython",
        "version": 3
      },
      "file_extension": ".py",
      "mimetype": "text/x-python",
      "name": "python",
      "nbconvert_exporter": "python",
      "pygments_lexer": "ipython3",
      "version": "3.9.12"
    }
  },
  "nbformat": 4,
  "nbformat_minor": 0
}