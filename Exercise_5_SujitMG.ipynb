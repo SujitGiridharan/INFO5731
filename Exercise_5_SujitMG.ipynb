{
  "cells": [
    {
      "cell_type": "markdown",
      "metadata": {
        "id": "r9IzdV2-R_4s"
      },
      "source": [
        "# **The fifth in-class-exercise (40 points in total, 4/18/2023)**"
      ]
    },
    {
      "cell_type": "markdown",
      "metadata": {
        "id": "cWyyzOgVR_4y"
      },
      "source": [
        "(20 points) The purpose of the question is to practice different machine learning algorithms for text classification as well as the performance evaluation. In addition, you are requried to conduct *10 fold cross validation (https://scikit-learn.org/stable/modules/cross_validation.html)* in the training.\n",
        "\n",
        "The dataset can be download from canvas. The dataset contains two files train data and test data for sentiment analysis in IMDB review, it has two categories: 1 represents positive and 0 represents negative. You need to split the training data into training and validate data (80% for training and 20% for validation, https://towardsdatascience.com/train-test-split-and-cross-validation-in-python-80b61beca4b6) and perform 10 fold cross validation while training the classifier. The final trained model was final evaluated on the test data.\n",
        "\n",
        "Algorithms:\n",
        "\n",
        "(1) MultinominalNB\n",
        "\n",
        "(2) SVM\n",
        "\n",
        "(3) KNN\n",
        "\n",
        "(4) Decision tree\n",
        "\n",
        "(5) Random Forest\n",
        "\n",
        "(6) XGBoost\n",
        "\n",
        "(7) Word2Vec\n",
        "\n",
        "(8) BERT\n",
        "\n",
        "Evaluation measurement:\n",
        "\n",
        "(1) Accuracy\n",
        "\n",
        "(2) Recall\n",
        "\n",
        "(3) Precison\n",
        "\n",
        "(4) F-1 score"
      ]
    },
    {
      "cell_type": "code",
      "execution_count": 10,
      "metadata": {
        "id": "UMaR1CsdR_40"
      },
      "outputs": [],
      "source": [
        "# Import pandas library for data manipulation\n",
        "import pandas as pd\n",
        "\n",
        "# Import matplotlib.pyplot library for data visualization\n",
        "import matplotlib.pyplot as plt\n",
        "\n",
        "# Import warnings module to suppress warnings\n",
        "import warnings\n",
        "\n",
        "# Suppress all warnings\n",
        "warnings.filterwarnings(\"ignore\")\n",
        "\n",
        "# Import metrics from sklearn.metrics library for model evaluation\n",
        "from sklearn.metrics import precision_score, recall_score, f1_score, accuracy_score\n"
      ]
    },
    {
      "cell_type": "markdown",
      "metadata": {
        "id": "Eoe9ZS8xR_41"
      },
      "source": [
        "## Training dataset"
      ]
    },
    {
      "cell_type": "code",
      "execution_count": 11,
      "metadata": {
        "id": "r5oBrH9UR_42"
      },
      "outputs": [],
      "source": [
        "# Open the \"stsa-train.txt\" file in read mode\n",
        "with open(\"stsa-train.txt\") as txtf:\n",
        "\n",
        "    # Create a list to store the lines of the file\n",
        "    mylist = [line.rstrip('\\n') for line in txtf]\n",
        "\n",
        "    # Initialize empty lists to store labels and text\n",
        "    labels = []\n",
        "    text = []\n",
        "\n",
        "    # Iterate through each line in the list\n",
        "    for i, line in enumerate(mylist):\n",
        "\n",
        "        # Extract the label (first character) and text (remaining characters)\n",
        "        label = mylist[i][0]\n",
        "        tex = mylist[i][1:]\n",
        "\n",
        "        # Append the label and text to their respective lists\n",
        "        labels.append(label)\n",
        "        text.append(tex)\n",
        "\n",
        "    # Create a DataFrame from the lists of labels and text\n",
        "    dataset = pd.DataFrame(list(zip(labels, text)), columns=['Reviews', 'Text'])\n",
        "\n",
        "    # Display the first 5 rows of the DataFrame\n",
        "    dataset.head()\n",
        "\n"
      ]
    },
    {
      "cell_type": "markdown",
      "metadata": {
        "id": "7sl5YfmkR_43"
      },
      "source": [
        "## Training data preprocessing"
      ]
    },
    {
      "cell_type": "code",
      "source": [
        "import nltk\n",
        "import nltk\n",
        "\n",
        "# Download stopwords\n",
        "nltk.download('stopwords')\n",
        "\n",
        "# Download WordNet\n",
        "nltk.download('wordnet')\n",
        "\n",
        "# Download Punkt tokenizer\n",
        "nltk.download('punkt')\n",
        "\n",
        "# Download movie reviews and Twitter samples for sentiment analysis\n",
        "nltk.download('movie_reviews')\n",
        "nltk.download('twitter_samples')\n",
        "\n",
        "# Download averaged_perceptron_tagger for Part-of-Speech tagging\n",
        "nltk.download('averaged_perceptron_tagger')\n",
        "\n",
        "# Download conll2002 for Named Entity Recognition (NER)\n",
        "nltk.download('conll2002')\n",
        "\n",
        "from nltk.tokenize import RegexpTokenizer\n",
        "from nltk.stem import WordNetLemmatizer,PorterStemmer\n",
        "from nltk.corpus import stopwords\n",
        "import re\n",
        "lemmatizer = WordNetLemmatizer()\n",
        "stemmer = PorterStemmer()\n",
        "\n",
        "def preprocess(sentence):\n",
        "    sentence=str(sentence)\n",
        "    sentence = sentence.lower()\n",
        "    sentence=sentence.replace('{html}',\"\")\n",
        "    cleanr = re.compile('<.*?>')\n",
        "    cleantext = re.sub(cleanr, '', sentence)\n",
        "    rem_url=re.sub(r'http\\S+', '',cleantext)\n",
        "    rem_num = re.sub('[0-9]+', '', rem_url)\n",
        "    tokenizer = RegexpTokenizer(r'\\w+')\n",
        "    tokens = tokenizer.tokenize(rem_num)\n",
        "    filtered_words = [w for w in tokens if len(w) > 2 if not w in stopwords.words('english')]\n",
        "    stem_words=[stemmer.stem(w) for w in filtered_words]\n",
        "    lemma_words=[lemmatizer.lemmatize(w) for w in stem_words]\n",
        "    return \" \".join(filtered_words)\n",
        "\n",
        "\n",
        "dataset['cleanText']=dataset['Text'].map(lambda s:preprocess(s))\n",
        "dataset.head()"
      ],
      "metadata": {
        "id": "UuFNKVbUW7xa",
        "colab": {
          "base_uri": "https://localhost:8080/",
          "height": 492
        },
        "outputId": "2d063dd7-6f12-4b87-b825-35ee7820fd47"
      },
      "execution_count": 12,
      "outputs": [
        {
          "output_type": "stream",
          "name": "stderr",
          "text": [
            "[nltk_data] Downloading package stopwords to /root/nltk_data...\n",
            "[nltk_data]   Package stopwords is already up-to-date!\n",
            "[nltk_data] Downloading package wordnet to /root/nltk_data...\n",
            "[nltk_data]   Package wordnet is already up-to-date!\n",
            "[nltk_data] Downloading package punkt to /root/nltk_data...\n",
            "[nltk_data]   Package punkt is already up-to-date!\n",
            "[nltk_data] Downloading package movie_reviews to /root/nltk_data...\n",
            "[nltk_data]   Package movie_reviews is already up-to-date!\n",
            "[nltk_data] Downloading package twitter_samples to /root/nltk_data...\n",
            "[nltk_data]   Package twitter_samples is already up-to-date!\n",
            "[nltk_data] Downloading package averaged_perceptron_tagger to\n",
            "[nltk_data]     /root/nltk_data...\n",
            "[nltk_data]   Package averaged_perceptron_tagger is already up-to-\n",
            "[nltk_data]       date!\n",
            "[nltk_data] Downloading package conll2002 to /root/nltk_data...\n",
            "[nltk_data]   Package conll2002 is already up-to-date!\n"
          ]
        },
        {
          "output_type": "execute_result",
          "data": {
            "text/plain": [
              "  Reviews                                               Text  \\\n",
              "0       1   a stirring , funny and finally transporting r...   \n",
              "1       0   apparently reassembled from the cutting-room ...   \n",
              "2       0   they presume their audience wo n't sit still ...   \n",
              "3       1   this is a visually stunning rumination on lov...   \n",
              "4       1   jonathan parker 's bartleby should have been ...   \n",
              "\n",
              "                                           cleanText  \n",
              "0  stirring funny finally transporting imagining ...  \n",
              "1  apparently reassembled cutting room floor give...  \n",
              "2  presume audience sit still sociology lesson ho...  \n",
              "3  visually stunning rumination love memory histo...  \n",
              "4  jonathan parker bartleby end modern office ano...  "
            ],
            "text/html": [
              "\n",
              "  <div id=\"df-58737952-1f3b-455e-a0ad-027e0e0f8c0f\" class=\"colab-df-container\">\n",
              "    <div>\n",
              "<style scoped>\n",
              "    .dataframe tbody tr th:only-of-type {\n",
              "        vertical-align: middle;\n",
              "    }\n",
              "\n",
              "    .dataframe tbody tr th {\n",
              "        vertical-align: top;\n",
              "    }\n",
              "\n",
              "    .dataframe thead th {\n",
              "        text-align: right;\n",
              "    }\n",
              "</style>\n",
              "<table border=\"1\" class=\"dataframe\">\n",
              "  <thead>\n",
              "    <tr style=\"text-align: right;\">\n",
              "      <th></th>\n",
              "      <th>Reviews</th>\n",
              "      <th>Text</th>\n",
              "      <th>cleanText</th>\n",
              "    </tr>\n",
              "  </thead>\n",
              "  <tbody>\n",
              "    <tr>\n",
              "      <th>0</th>\n",
              "      <td>1</td>\n",
              "      <td>a stirring , funny and finally transporting r...</td>\n",
              "      <td>stirring funny finally transporting imagining ...</td>\n",
              "    </tr>\n",
              "    <tr>\n",
              "      <th>1</th>\n",
              "      <td>0</td>\n",
              "      <td>apparently reassembled from the cutting-room ...</td>\n",
              "      <td>apparently reassembled cutting room floor give...</td>\n",
              "    </tr>\n",
              "    <tr>\n",
              "      <th>2</th>\n",
              "      <td>0</td>\n",
              "      <td>they presume their audience wo n't sit still ...</td>\n",
              "      <td>presume audience sit still sociology lesson ho...</td>\n",
              "    </tr>\n",
              "    <tr>\n",
              "      <th>3</th>\n",
              "      <td>1</td>\n",
              "      <td>this is a visually stunning rumination on lov...</td>\n",
              "      <td>visually stunning rumination love memory histo...</td>\n",
              "    </tr>\n",
              "    <tr>\n",
              "      <th>4</th>\n",
              "      <td>1</td>\n",
              "      <td>jonathan parker 's bartleby should have been ...</td>\n",
              "      <td>jonathan parker bartleby end modern office ano...</td>\n",
              "    </tr>\n",
              "  </tbody>\n",
              "</table>\n",
              "</div>\n",
              "    <div class=\"colab-df-buttons\">\n",
              "\n",
              "  <div class=\"colab-df-container\">\n",
              "    <button class=\"colab-df-convert\" onclick=\"convertToInteractive('df-58737952-1f3b-455e-a0ad-027e0e0f8c0f')\"\n",
              "            title=\"Convert this dataframe to an interactive table.\"\n",
              "            style=\"display:none;\">\n",
              "\n",
              "  <svg xmlns=\"http://www.w3.org/2000/svg\" height=\"24px\" viewBox=\"0 -960 960 960\">\n",
              "    <path d=\"M120-120v-720h720v720H120Zm60-500h600v-160H180v160Zm220 220h160v-160H400v160Zm0 220h160v-160H400v160ZM180-400h160v-160H180v160Zm440 0h160v-160H620v160ZM180-180h160v-160H180v160Zm440 0h160v-160H620v160Z\"/>\n",
              "  </svg>\n",
              "    </button>\n",
              "\n",
              "  <style>\n",
              "    .colab-df-container {\n",
              "      display:flex;\n",
              "      gap: 12px;\n",
              "    }\n",
              "\n",
              "    .colab-df-convert {\n",
              "      background-color: #E8F0FE;\n",
              "      border: none;\n",
              "      border-radius: 50%;\n",
              "      cursor: pointer;\n",
              "      display: none;\n",
              "      fill: #1967D2;\n",
              "      height: 32px;\n",
              "      padding: 0 0 0 0;\n",
              "      width: 32px;\n",
              "    }\n",
              "\n",
              "    .colab-df-convert:hover {\n",
              "      background-color: #E2EBFA;\n",
              "      box-shadow: 0px 1px 2px rgba(60, 64, 67, 0.3), 0px 1px 3px 1px rgba(60, 64, 67, 0.15);\n",
              "      fill: #174EA6;\n",
              "    }\n",
              "\n",
              "    .colab-df-buttons div {\n",
              "      margin-bottom: 4px;\n",
              "    }\n",
              "\n",
              "    [theme=dark] .colab-df-convert {\n",
              "      background-color: #3B4455;\n",
              "      fill: #D2E3FC;\n",
              "    }\n",
              "\n",
              "    [theme=dark] .colab-df-convert:hover {\n",
              "      background-color: #434B5C;\n",
              "      box-shadow: 0px 1px 3px 1px rgba(0, 0, 0, 0.15);\n",
              "      filter: drop-shadow(0px 1px 2px rgba(0, 0, 0, 0.3));\n",
              "      fill: #FFFFFF;\n",
              "    }\n",
              "  </style>\n",
              "\n",
              "    <script>\n",
              "      const buttonEl =\n",
              "        document.querySelector('#df-58737952-1f3b-455e-a0ad-027e0e0f8c0f button.colab-df-convert');\n",
              "      buttonEl.style.display =\n",
              "        google.colab.kernel.accessAllowed ? 'block' : 'none';\n",
              "\n",
              "      async function convertToInteractive(key) {\n",
              "        const element = document.querySelector('#df-58737952-1f3b-455e-a0ad-027e0e0f8c0f');\n",
              "        const dataTable =\n",
              "          await google.colab.kernel.invokeFunction('convertToInteractive',\n",
              "                                                    [key], {});\n",
              "        if (!dataTable) return;\n",
              "\n",
              "        const docLinkHtml = 'Like what you see? Visit the ' +\n",
              "          '<a target=\"_blank\" href=https://colab.research.google.com/notebooks/data_table.ipynb>data table notebook</a>'\n",
              "          + ' to learn more about interactive tables.';\n",
              "        element.innerHTML = '';\n",
              "        dataTable['output_type'] = 'display_data';\n",
              "        await google.colab.output.renderOutput(dataTable, element);\n",
              "        const docLink = document.createElement('div');\n",
              "        docLink.innerHTML = docLinkHtml;\n",
              "        element.appendChild(docLink);\n",
              "      }\n",
              "    </script>\n",
              "  </div>\n",
              "\n",
              "\n",
              "<div id=\"df-e10c117f-7609-44e3-9568-74c2d450cd60\">\n",
              "  <button class=\"colab-df-quickchart\" onclick=\"quickchart('df-e10c117f-7609-44e3-9568-74c2d450cd60')\"\n",
              "            title=\"Suggest charts\"\n",
              "            style=\"display:none;\">\n",
              "\n",
              "<svg xmlns=\"http://www.w3.org/2000/svg\" height=\"24px\"viewBox=\"0 0 24 24\"\n",
              "     width=\"24px\">\n",
              "    <g>\n",
              "        <path d=\"M19 3H5c-1.1 0-2 .9-2 2v14c0 1.1.9 2 2 2h14c1.1 0 2-.9 2-2V5c0-1.1-.9-2-2-2zM9 17H7v-7h2v7zm4 0h-2V7h2v10zm4 0h-2v-4h2v4z\"/>\n",
              "    </g>\n",
              "</svg>\n",
              "  </button>\n",
              "\n",
              "<style>\n",
              "  .colab-df-quickchart {\n",
              "      --bg-color: #E8F0FE;\n",
              "      --fill-color: #1967D2;\n",
              "      --hover-bg-color: #E2EBFA;\n",
              "      --hover-fill-color: #174EA6;\n",
              "      --disabled-fill-color: #AAA;\n",
              "      --disabled-bg-color: #DDD;\n",
              "  }\n",
              "\n",
              "  [theme=dark] .colab-df-quickchart {\n",
              "      --bg-color: #3B4455;\n",
              "      --fill-color: #D2E3FC;\n",
              "      --hover-bg-color: #434B5C;\n",
              "      --hover-fill-color: #FFFFFF;\n",
              "      --disabled-bg-color: #3B4455;\n",
              "      --disabled-fill-color: #666;\n",
              "  }\n",
              "\n",
              "  .colab-df-quickchart {\n",
              "    background-color: var(--bg-color);\n",
              "    border: none;\n",
              "    border-radius: 50%;\n",
              "    cursor: pointer;\n",
              "    display: none;\n",
              "    fill: var(--fill-color);\n",
              "    height: 32px;\n",
              "    padding: 0;\n",
              "    width: 32px;\n",
              "  }\n",
              "\n",
              "  .colab-df-quickchart:hover {\n",
              "    background-color: var(--hover-bg-color);\n",
              "    box-shadow: 0 1px 2px rgba(60, 64, 67, 0.3), 0 1px 3px 1px rgba(60, 64, 67, 0.15);\n",
              "    fill: var(--button-hover-fill-color);\n",
              "  }\n",
              "\n",
              "  .colab-df-quickchart-complete:disabled,\n",
              "  .colab-df-quickchart-complete:disabled:hover {\n",
              "    background-color: var(--disabled-bg-color);\n",
              "    fill: var(--disabled-fill-color);\n",
              "    box-shadow: none;\n",
              "  }\n",
              "\n",
              "  .colab-df-spinner {\n",
              "    border: 2px solid var(--fill-color);\n",
              "    border-color: transparent;\n",
              "    border-bottom-color: var(--fill-color);\n",
              "    animation:\n",
              "      spin 1s steps(1) infinite;\n",
              "  }\n",
              "\n",
              "  @keyframes spin {\n",
              "    0% {\n",
              "      border-color: transparent;\n",
              "      border-bottom-color: var(--fill-color);\n",
              "      border-left-color: var(--fill-color);\n",
              "    }\n",
              "    20% {\n",
              "      border-color: transparent;\n",
              "      border-left-color: var(--fill-color);\n",
              "      border-top-color: var(--fill-color);\n",
              "    }\n",
              "    30% {\n",
              "      border-color: transparent;\n",
              "      border-left-color: var(--fill-color);\n",
              "      border-top-color: var(--fill-color);\n",
              "      border-right-color: var(--fill-color);\n",
              "    }\n",
              "    40% {\n",
              "      border-color: transparent;\n",
              "      border-right-color: var(--fill-color);\n",
              "      border-top-color: var(--fill-color);\n",
              "    }\n",
              "    60% {\n",
              "      border-color: transparent;\n",
              "      border-right-color: var(--fill-color);\n",
              "    }\n",
              "    80% {\n",
              "      border-color: transparent;\n",
              "      border-right-color: var(--fill-color);\n",
              "      border-bottom-color: var(--fill-color);\n",
              "    }\n",
              "    90% {\n",
              "      border-color: transparent;\n",
              "      border-bottom-color: var(--fill-color);\n",
              "    }\n",
              "  }\n",
              "</style>\n",
              "\n",
              "  <script>\n",
              "    async function quickchart(key) {\n",
              "      const quickchartButtonEl =\n",
              "        document.querySelector('#' + key + ' button');\n",
              "      quickchartButtonEl.disabled = true;  // To prevent multiple clicks.\n",
              "      quickchartButtonEl.classList.add('colab-df-spinner');\n",
              "      try {\n",
              "        const charts = await google.colab.kernel.invokeFunction(\n",
              "            'suggestCharts', [key], {});\n",
              "      } catch (error) {\n",
              "        console.error('Error during call to suggestCharts:', error);\n",
              "      }\n",
              "      quickchartButtonEl.classList.remove('colab-df-spinner');\n",
              "      quickchartButtonEl.classList.add('colab-df-quickchart-complete');\n",
              "    }\n",
              "    (() => {\n",
              "      let quickchartButtonEl =\n",
              "        document.querySelector('#df-e10c117f-7609-44e3-9568-74c2d450cd60 button');\n",
              "      quickchartButtonEl.style.display =\n",
              "        google.colab.kernel.accessAllowed ? 'block' : 'none';\n",
              "    })();\n",
              "  </script>\n",
              "</div>\n",
              "    </div>\n",
              "  </div>\n"
            ]
          },
          "metadata": {},
          "execution_count": 12
        }
      ]
    },
    {
      "cell_type": "markdown",
      "source": [
        "## Testing dataset"
      ],
      "metadata": {
        "id": "m-iYhgxBXA00"
      }
    },
    {
      "cell_type": "code",
      "source": [
        "# Open the \"stsa-test.txt\" file in read mode\n",
        "with open(\"stsa-test.txt\") as txtf:\n",
        "\n",
        "    # Create a list to store the lines of the test file\n",
        "    mylist_test = [line.rstrip('\\n') for line in txtf]\n",
        "\n",
        "    # Initialize empty lists to store test labels and test text\n",
        "    labels_test = []\n",
        "    text_test = []\n",
        "\n",
        "    # Iterate through each line in the test file list\n",
        "    for i, line in enumerate(mylist_test):\n",
        "\n",
        "        # Extract the test label (first character) and test text (remaining characters)\n",
        "        label_test = mylist_test[i][0]\n",
        "        tex_test = mylist_test[i][1:]\n",
        "\n",
        "        # Append the test label and test text to their respective lists\n",
        "        labels_test.append(label_test)\n",
        "        text_test.append(tex_test)\n",
        "\n",
        "    # Create a DataFrame from the lists of test labels and test text\n",
        "    dataset_test = pd.DataFrame(list(zip(labels_test, text_test)), columns=['Reviews', 'Text'])\n",
        "\n",
        "    # Display the first 5 rows of the test DataFrame\n",
        "    dataset_test.head()\n"
      ],
      "metadata": {
        "id": "gjEmDPSGXBoR"
      },
      "execution_count": 13,
      "outputs": []
    },
    {
      "cell_type": "markdown",
      "source": [
        "## Testing data preprocessing"
      ],
      "metadata": {
        "id": "HrLIVL-5XMaM"
      }
    },
    {
      "cell_type": "code",
      "source": [
        "# Import the nltk library for natural language processing tasks\n",
        "import nltk\n",
        "\n",
        "\n",
        "# Import the RegexpTokenizer class from nltk.tokenize for tokenization based on regular expressions\n",
        "from nltk.tokenize import RegexpTokenizer\n",
        "\n",
        "# Import the WordNetLemmatizer and PorterStemmer classes from nltk.stem for lemmatization and stemming, respectively\n",
        "from nltk.stem import WordNetLemmatizer, PorterStemmer\n",
        "\n",
        "# Import the stopwords module from nltk to remove common words\n",
        "from nltk.corpus import stopwords\n",
        "\n",
        "# Create an instance of the WordNetLemmatizer class for lemmatization\n",
        "lemmatizer = WordNetLemmatizer()\n",
        "\n",
        "# Create an instance of the PorterStemmer class for stemming\n",
        "stemmer = PorterStemmer()\n",
        "\n",
        "# Define a function to preprocess the text in a given sentence\n",
        "def preprocess(sentence):\n",
        "    # Convert the sentence to a string\n",
        "    sentence = str(sentence)\n",
        "\n",
        "    # Convert the sentence to lowercase\n",
        "    sentence = sentence.lower()\n",
        "\n",
        "    # Remove HTML tags\n",
        "    sentence = sentence.replace('{html}', \"\")\n",
        "\n",
        "    # Remove HTML tags using regular expressions\n",
        "    cleanr = re.compile('<.*?>')\n",
        "    cleantext = re.sub(cleanr, '', sentence)\n",
        "\n",
        "    # Remove URLs\n",
        "    rem_url = re.sub(r'http\\S+', '', cleantext)\n",
        "\n",
        "    # Remove numbers\n",
        "    rem_num = re.sub('[0-9]+', '', rem_url)\n",
        "\n",
        "    # Create an instance of the RegexpTokenizer class for tokenization\n",
        "    tokenizer = RegexpTokenizer(r'\\w+')\n",
        "\n",
        "    # Tokenize the sentence based on regular expressions\n",
        "    tokens = tokenizer.tokenize(rem_num)\n",
        "\n",
        "    # Filter out words with length less than or equal to 2 and stop words\n",
        "    filtered_words = [w for w in tokens if len(w) > 2 if not w in stopwords.words('english')]\n",
        "\n",
        "    # Stem the filtered words\n",
        "    stem_words = [stemmer.stem(w) for w in filtered_words]\n",
        "\n",
        "    # Lemmatize the stemmed words\n",
        "    lemma_words = [lemmatizer.lemmatize(w) for w in stem_words]\n",
        "\n",
        "    # Join the preprocessed words into a single string\n",
        "    processed_sentence = \" \".join(filtered_words)\n",
        "\n",
        "    # Return the processed sentence\n",
        "    return processed_sentence\n",
        "\n",
        "# Apply the preprocess function to the 'Text' column in the test dataset and store the processed text in a new column named 'cleanText'\n",
        "dataset_test['cleanText'] = dataset_test['Text'].map(lambda s: preprocess(s))\n",
        "\n",
        "# Display the first 5 rows of the preprocessed test dataset\n",
        "dataset_test.head()\n"
      ],
      "metadata": {
        "id": "4Op0w0GoXKGg",
        "colab": {
          "base_uri": "https://localhost:8080/",
          "height": 206
        },
        "outputId": "38b492c3-9814-4be3-bae1-e7b1dc558e6f"
      },
      "execution_count": 15,
      "outputs": [
        {
          "output_type": "execute_result",
          "data": {
            "text/plain": [
              "  Reviews                                               Text  \\\n",
              "0       0     no movement , no yuks , not much of anything .   \n",
              "1       0   a gob of drivel so sickly sweet , even the ea...   \n",
              "2       0   gangs of new york is an unapologetic mess , w...   \n",
              "3       0   we never really feel involved with the story ...   \n",
              "4       1            this is one of polanski 's best films .   \n",
              "\n",
              "                                           cleanText  \n",
              "0                        movement yuks much anything  \n",
              "1  gob drivel sickly sweet even eager consumers m...  \n",
              "2  gangs new york unapologetic mess whose saving ...  \n",
              "3  never really feel involved story ideas remain ...  \n",
              "4                            one polanski best films  "
            ],
            "text/html": [
              "\n",
              "  <div id=\"df-ed47253d-8551-4cfb-9be1-240552eb2399\" class=\"colab-df-container\">\n",
              "    <div>\n",
              "<style scoped>\n",
              "    .dataframe tbody tr th:only-of-type {\n",
              "        vertical-align: middle;\n",
              "    }\n",
              "\n",
              "    .dataframe tbody tr th {\n",
              "        vertical-align: top;\n",
              "    }\n",
              "\n",
              "    .dataframe thead th {\n",
              "        text-align: right;\n",
              "    }\n",
              "</style>\n",
              "<table border=\"1\" class=\"dataframe\">\n",
              "  <thead>\n",
              "    <tr style=\"text-align: right;\">\n",
              "      <th></th>\n",
              "      <th>Reviews</th>\n",
              "      <th>Text</th>\n",
              "      <th>cleanText</th>\n",
              "    </tr>\n",
              "  </thead>\n",
              "  <tbody>\n",
              "    <tr>\n",
              "      <th>0</th>\n",
              "      <td>0</td>\n",
              "      <td>no movement , no yuks , not much of anything .</td>\n",
              "      <td>movement yuks much anything</td>\n",
              "    </tr>\n",
              "    <tr>\n",
              "      <th>1</th>\n",
              "      <td>0</td>\n",
              "      <td>a gob of drivel so sickly sweet , even the ea...</td>\n",
              "      <td>gob drivel sickly sweet even eager consumers m...</td>\n",
              "    </tr>\n",
              "    <tr>\n",
              "      <th>2</th>\n",
              "      <td>0</td>\n",
              "      <td>gangs of new york is an unapologetic mess , w...</td>\n",
              "      <td>gangs new york unapologetic mess whose saving ...</td>\n",
              "    </tr>\n",
              "    <tr>\n",
              "      <th>3</th>\n",
              "      <td>0</td>\n",
              "      <td>we never really feel involved with the story ...</td>\n",
              "      <td>never really feel involved story ideas remain ...</td>\n",
              "    </tr>\n",
              "    <tr>\n",
              "      <th>4</th>\n",
              "      <td>1</td>\n",
              "      <td>this is one of polanski 's best films .</td>\n",
              "      <td>one polanski best films</td>\n",
              "    </tr>\n",
              "  </tbody>\n",
              "</table>\n",
              "</div>\n",
              "    <div class=\"colab-df-buttons\">\n",
              "\n",
              "  <div class=\"colab-df-container\">\n",
              "    <button class=\"colab-df-convert\" onclick=\"convertToInteractive('df-ed47253d-8551-4cfb-9be1-240552eb2399')\"\n",
              "            title=\"Convert this dataframe to an interactive table.\"\n",
              "            style=\"display:none;\">\n",
              "\n",
              "  <svg xmlns=\"http://www.w3.org/2000/svg\" height=\"24px\" viewBox=\"0 -960 960 960\">\n",
              "    <path d=\"M120-120v-720h720v720H120Zm60-500h600v-160H180v160Zm220 220h160v-160H400v160Zm0 220h160v-160H400v160ZM180-400h160v-160H180v160Zm440 0h160v-160H620v160ZM180-180h160v-160H180v160Zm440 0h160v-160H620v160Z\"/>\n",
              "  </svg>\n",
              "    </button>\n",
              "\n",
              "  <style>\n",
              "    .colab-df-container {\n",
              "      display:flex;\n",
              "      gap: 12px;\n",
              "    }\n",
              "\n",
              "    .colab-df-convert {\n",
              "      background-color: #E8F0FE;\n",
              "      border: none;\n",
              "      border-radius: 50%;\n",
              "      cursor: pointer;\n",
              "      display: none;\n",
              "      fill: #1967D2;\n",
              "      height: 32px;\n",
              "      padding: 0 0 0 0;\n",
              "      width: 32px;\n",
              "    }\n",
              "\n",
              "    .colab-df-convert:hover {\n",
              "      background-color: #E2EBFA;\n",
              "      box-shadow: 0px 1px 2px rgba(60, 64, 67, 0.3), 0px 1px 3px 1px rgba(60, 64, 67, 0.15);\n",
              "      fill: #174EA6;\n",
              "    }\n",
              "\n",
              "    .colab-df-buttons div {\n",
              "      margin-bottom: 4px;\n",
              "    }\n",
              "\n",
              "    [theme=dark] .colab-df-convert {\n",
              "      background-color: #3B4455;\n",
              "      fill: #D2E3FC;\n",
              "    }\n",
              "\n",
              "    [theme=dark] .colab-df-convert:hover {\n",
              "      background-color: #434B5C;\n",
              "      box-shadow: 0px 1px 3px 1px rgba(0, 0, 0, 0.15);\n",
              "      filter: drop-shadow(0px 1px 2px rgba(0, 0, 0, 0.3));\n",
              "      fill: #FFFFFF;\n",
              "    }\n",
              "  </style>\n",
              "\n",
              "    <script>\n",
              "      const buttonEl =\n",
              "        document.querySelector('#df-ed47253d-8551-4cfb-9be1-240552eb2399 button.colab-df-convert');\n",
              "      buttonEl.style.display =\n",
              "        google.colab.kernel.accessAllowed ? 'block' : 'none';\n",
              "\n",
              "      async function convertToInteractive(key) {\n",
              "        const element = document.querySelector('#df-ed47253d-8551-4cfb-9be1-240552eb2399');\n",
              "        const dataTable =\n",
              "          await google.colab.kernel.invokeFunction('convertToInteractive',\n",
              "                                                    [key], {});\n",
              "        if (!dataTable) return;\n",
              "\n",
              "        const docLinkHtml = 'Like what you see? Visit the ' +\n",
              "          '<a target=\"_blank\" href=https://colab.research.google.com/notebooks/data_table.ipynb>data table notebook</a>'\n",
              "          + ' to learn more about interactive tables.';\n",
              "        element.innerHTML = '';\n",
              "        dataTable['output_type'] = 'display_data';\n",
              "        await google.colab.output.renderOutput(dataTable, element);\n",
              "        const docLink = document.createElement('div');\n",
              "        docLink.innerHTML = docLinkHtml;\n",
              "        element.appendChild(docLink);\n",
              "      }\n",
              "    </script>\n",
              "  </div>\n",
              "\n",
              "\n",
              "<div id=\"df-89785c9b-96c9-426a-891f-fa50c1f12aa8\">\n",
              "  <button class=\"colab-df-quickchart\" onclick=\"quickchart('df-89785c9b-96c9-426a-891f-fa50c1f12aa8')\"\n",
              "            title=\"Suggest charts\"\n",
              "            style=\"display:none;\">\n",
              "\n",
              "<svg xmlns=\"http://www.w3.org/2000/svg\" height=\"24px\"viewBox=\"0 0 24 24\"\n",
              "     width=\"24px\">\n",
              "    <g>\n",
              "        <path d=\"M19 3H5c-1.1 0-2 .9-2 2v14c0 1.1.9 2 2 2h14c1.1 0 2-.9 2-2V5c0-1.1-.9-2-2-2zM9 17H7v-7h2v7zm4 0h-2V7h2v10zm4 0h-2v-4h2v4z\"/>\n",
              "    </g>\n",
              "</svg>\n",
              "  </button>\n",
              "\n",
              "<style>\n",
              "  .colab-df-quickchart {\n",
              "      --bg-color: #E8F0FE;\n",
              "      --fill-color: #1967D2;\n",
              "      --hover-bg-color: #E2EBFA;\n",
              "      --hover-fill-color: #174EA6;\n",
              "      --disabled-fill-color: #AAA;\n",
              "      --disabled-bg-color: #DDD;\n",
              "  }\n",
              "\n",
              "  [theme=dark] .colab-df-quickchart {\n",
              "      --bg-color: #3B4455;\n",
              "      --fill-color: #D2E3FC;\n",
              "      --hover-bg-color: #434B5C;\n",
              "      --hover-fill-color: #FFFFFF;\n",
              "      --disabled-bg-color: #3B4455;\n",
              "      --disabled-fill-color: #666;\n",
              "  }\n",
              "\n",
              "  .colab-df-quickchart {\n",
              "    background-color: var(--bg-color);\n",
              "    border: none;\n",
              "    border-radius: 50%;\n",
              "    cursor: pointer;\n",
              "    display: none;\n",
              "    fill: var(--fill-color);\n",
              "    height: 32px;\n",
              "    padding: 0;\n",
              "    width: 32px;\n",
              "  }\n",
              "\n",
              "  .colab-df-quickchart:hover {\n",
              "    background-color: var(--hover-bg-color);\n",
              "    box-shadow: 0 1px 2px rgba(60, 64, 67, 0.3), 0 1px 3px 1px rgba(60, 64, 67, 0.15);\n",
              "    fill: var(--button-hover-fill-color);\n",
              "  }\n",
              "\n",
              "  .colab-df-quickchart-complete:disabled,\n",
              "  .colab-df-quickchart-complete:disabled:hover {\n",
              "    background-color: var(--disabled-bg-color);\n",
              "    fill: var(--disabled-fill-color);\n",
              "    box-shadow: none;\n",
              "  }\n",
              "\n",
              "  .colab-df-spinner {\n",
              "    border: 2px solid var(--fill-color);\n",
              "    border-color: transparent;\n",
              "    border-bottom-color: var(--fill-color);\n",
              "    animation:\n",
              "      spin 1s steps(1) infinite;\n",
              "  }\n",
              "\n",
              "  @keyframes spin {\n",
              "    0% {\n",
              "      border-color: transparent;\n",
              "      border-bottom-color: var(--fill-color);\n",
              "      border-left-color: var(--fill-color);\n",
              "    }\n",
              "    20% {\n",
              "      border-color: transparent;\n",
              "      border-left-color: var(--fill-color);\n",
              "      border-top-color: var(--fill-color);\n",
              "    }\n",
              "    30% {\n",
              "      border-color: transparent;\n",
              "      border-left-color: var(--fill-color);\n",
              "      border-top-color: var(--fill-color);\n",
              "      border-right-color: var(--fill-color);\n",
              "    }\n",
              "    40% {\n",
              "      border-color: transparent;\n",
              "      border-right-color: var(--fill-color);\n",
              "      border-top-color: var(--fill-color);\n",
              "    }\n",
              "    60% {\n",
              "      border-color: transparent;\n",
              "      border-right-color: var(--fill-color);\n",
              "    }\n",
              "    80% {\n",
              "      border-color: transparent;\n",
              "      border-right-color: var(--fill-color);\n",
              "      border-bottom-color: var(--fill-color);\n",
              "    }\n",
              "    90% {\n",
              "      border-color: transparent;\n",
              "      border-bottom-color: var(--fill-color);\n",
              "    }\n",
              "  }\n",
              "</style>\n",
              "\n",
              "  <script>\n",
              "    async function quickchart(key) {\n",
              "      const quickchartButtonEl =\n",
              "        document.querySelector('#' + key + ' button');\n",
              "      quickchartButtonEl.disabled = true;  // To prevent multiple clicks.\n",
              "      quickchartButtonEl.classList.add('colab-df-spinner');\n",
              "      try {\n",
              "        const charts = await google.colab.kernel.invokeFunction(\n",
              "            'suggestCharts', [key], {});\n",
              "      } catch (error) {\n",
              "        console.error('Error during call to suggestCharts:', error);\n",
              "      }\n",
              "      quickchartButtonEl.classList.remove('colab-df-spinner');\n",
              "      quickchartButtonEl.classList.add('colab-df-quickchart-complete');\n",
              "    }\n",
              "    (() => {\n",
              "      let quickchartButtonEl =\n",
              "        document.querySelector('#df-89785c9b-96c9-426a-891f-fa50c1f12aa8 button');\n",
              "      quickchartButtonEl.style.display =\n",
              "        google.colab.kernel.accessAllowed ? 'block' : 'none';\n",
              "    })();\n",
              "  </script>\n",
              "</div>\n",
              "    </div>\n",
              "  </div>\n"
            ]
          },
          "metadata": {},
          "execution_count": 15
        }
      ]
    },
    {
      "cell_type": "markdown",
      "source": [
        "## TF-IDF Vectorization"
      ],
      "metadata": {
        "id": "o5alMUw-Xb6b"
      }
    },
    {
      "cell_type": "code",
      "source": [
        "# Import the TfidfVectorizer class from the sklearn.feature_extraction.text module\n",
        "from sklearn.feature_extraction.text import TfidfVectorizer\n",
        "\n",
        "# Create an instance of the TfidfVectorizer class with lowercase set to False and analyzer set to 'word'\n",
        "tfidf_vectorizer = TfidfVectorizer(lowercase=False, analyzer='word')\n",
        "\n",
        "# Fit the TfidfVectorizer to the preprocessed training text and transform it into a TF-IDF matrix\n",
        "train_tfidf = tfidf_vectorizer.fit_transform(dataset[\"cleanText\"]).toarray()\n",
        "\n",
        "# Transform the preprocessed test text into a TF-IDF matrix using the fitted TfidfVectorizer\n",
        "test_tfidf = tfidf_vectorizer.transform(dataset_test[\"cleanText\"]).toarray()\n"
      ],
      "metadata": {
        "id": "YWQxMoJ5XdUL"
      },
      "execution_count": 16,
      "outputs": []
    },
    {
      "cell_type": "code",
      "source": [
        "# Assign the preprocessed test TF-IDF matrix to the x_test variable\n",
        "x_test = test_tfidf\n",
        "\n",
        "# Assign the target labels for the test data to the y_test variable\n",
        "y_test = dataset_test[\"Reviews\"]\n"
      ],
      "metadata": {
        "id": "oukk3p4eaOkt"
      },
      "execution_count": 17,
      "outputs": []
    },
    {
      "cell_type": "markdown",
      "source": [
        "## Data partitioning"
      ],
      "metadata": {
        "id": "k7UexChiaXKW"
      }
    },
    {
      "cell_type": "code",
      "source": [
        "# Import the train_test_split function from sklearn.model_selection\n",
        "from sklearn.model_selection import train_test_split\n",
        "\n",
        "# Split the preprocessed training TF-IDF matrix and target labels into training and validation sets\n",
        "x_train, x_valid, y_train, y_valid = train_test_split(train_tfidf, dataset[\"Reviews\"], test_size=0.2, random_state=202)\n"
      ],
      "metadata": {
        "id": "SL48uVZ5aahR"
      },
      "execution_count": 18,
      "outputs": []
    },
    {
      "cell_type": "markdown",
      "source": [
        "## Algorithms"
      ],
      "metadata": {
        "id": "TXVL43Wpa06a"
      }
    },
    {
      "cell_type": "markdown",
      "source": [
        "## 1. MultinominalNB"
      ],
      "metadata": {
        "id": "1Nths9gea2fK"
      }
    },
    {
      "cell_type": "code",
      "source": [
        "# Import the MultinomialNB class from sklearn.naive_bayes\n",
        "from sklearn.naive_bayes import MultinomialNB\n",
        "\n",
        "# Create an instance of the MultinomialNB classifier\n",
        "classifier = MultinomialNB()\n",
        "\n",
        "# Train the classifier using the training data\n",
        "model = classifier.fit(x_train, y_train)\n",
        "\n",
        "# Make predictions on the validation data\n",
        "predictions_validation_set = classifier.predict(x_valid)\n",
        "\n",
        "# Evaluate the performance of the classifier using various metrics\n",
        "print(\"Accuracy of the Naive Bayes model on validation set is :\", round(accuracy_score(y_valid, predictions_validation_set) * 100), \"%\")\n",
        "print(\"Precision of the Naive Bayes model on validation set is :\", round(precision_score(y_valid, predictions_validation_set, pos_label='0') * 100), \"%\")\n",
        "print(\"Recall of the Naive Bayes model on validation set is :\", round(recall_score(y_valid, predictions_validation_set, pos_label='0') * 100), \"%\")\n",
        "print(\"F1 Score of the Naive Bayes model on validation set is :\", round(f1_score(y_valid, predictions_validation_set, pos_label='0') * 100), \"%\")\n"
      ],
      "metadata": {
        "id": "YgibuH-PaiSk",
        "colab": {
          "base_uri": "https://localhost:8080/"
        },
        "outputId": "cc3903e9-aaca-4e2d-a88e-d75c541bc85a"
      },
      "execution_count": 19,
      "outputs": [
        {
          "output_type": "stream",
          "name": "stdout",
          "text": [
            "Accuracy of the Naive Bayes model on validation set is : 78 %\n",
            "Precision of the Naive Bayes model on validation set is : 83 %\n",
            "Recall of the Naive Bayes model on validation set is : 69 %\n",
            "F1 Score of the Naive Bayes model on validation set is : 76 %\n"
          ]
        }
      ]
    },
    {
      "cell_type": "code",
      "source": [
        "# Import the classification_report function from sklearn.metrics\n",
        "from sklearn.metrics import classification_report\n",
        "\n",
        "# Generate a classification report for the Naive Bayes classifier on the validation set\n",
        "cr_naive_validation = classification_report(y_valid, predictions_validation_set)\n",
        "\n",
        "# Print the classification report\n",
        "print(\"Classification Report: \", \"\\n\", \"\\n\", cr_naive_validation)\n"
      ],
      "metadata": {
        "id": "oR-maoabbEvt",
        "colab": {
          "base_uri": "https://localhost:8080/"
        },
        "outputId": "cd6209a2-2d64-4617-c129-70b991e9ad5b"
      },
      "execution_count": 20,
      "outputs": [
        {
          "output_type": "stream",
          "name": "stdout",
          "text": [
            "Classification Report:  \n",
            " \n",
            "               precision    recall  f1-score   support\n",
            "\n",
            "           0       0.83      0.69      0.76       667\n",
            "           1       0.75      0.87      0.81       717\n",
            "\n",
            "    accuracy                           0.78      1384\n",
            "   macro avg       0.79      0.78      0.78      1384\n",
            "weighted avg       0.79      0.78      0.78      1384\n",
            "\n"
          ]
        }
      ]
    },
    {
      "cell_type": "code",
      "source": [
        "# Import the cross_val_score function from sklearn.model_selection\n",
        "from sklearn.model_selection import cross_val_score\n",
        "\n",
        "# Perform 10-fold cross-validation on the Naive Bayes classifier using the training data\n",
        "naive_accuracies_validation = cross_val_score(estimator=classifier, X=x_train, y=y_train, cv=10)\n",
        "\n",
        "# Calculate the average cross-validation accuracy\n",
        "average_accuracy = naive_accuracies_validation.mean()\n",
        "\n",
        "# Print the average cross-validation accuracy\n",
        "print(f\"Naive Bayes Model 10-fold cross-validation score on training set is :  {round(average_accuracy * 100)}%\")\n"
      ],
      "metadata": {
        "id": "OSnUVrZFbUMV",
        "colab": {
          "base_uri": "https://localhost:8080/"
        },
        "outputId": "f02abb35-6d4b-47bf-f86e-81d3931149e7"
      },
      "execution_count": 21,
      "outputs": [
        {
          "output_type": "stream",
          "name": "stdout",
          "text": [
            "Naive Bayes Model 10-fold cross-validation score on training set is :  77%\n"
          ]
        }
      ]
    },
    {
      "cell_type": "code",
      "source": [
        "# Make predictions on the test data using the trained Naive Bayes classifier\n",
        "predictions_test_set = classifier.predict(x_test)\n",
        "\n",
        "# Evaluate the performance of the classifier on the test data using accuracy, precision, recall, and F1-score metrics\n",
        "print(\"Accuracy of the Naive Bayes model on test set is :\", round(accuracy_score(y_test, predictions_test_set) * 100), \"%\")\n",
        "\n",
        "print(\"Precision of the Naive Bayes model on test set is :\", round(precision_score(y_test, predictions_test_set, pos_label='0') * 100), \"%\")\n",
        "print(\"Recall of the Naive Bayes model on test set is :\", round(recall_score(y_test, predictions_test_set, pos_label='0') * 100), \"%\")\n",
        "print(\"F1 Score of the Naive Bayes model on test set is :\", round(f1_score(y_test, predictions_test_set, pos_label='0') * 100), \"%\")\n"
      ],
      "metadata": {
        "id": "7sAtMeHYb-12",
        "colab": {
          "base_uri": "https://localhost:8080/"
        },
        "outputId": "ed15f32e-f40e-47a3-eadf-c4e7efa888c6"
      },
      "execution_count": 22,
      "outputs": [
        {
          "output_type": "stream",
          "name": "stdout",
          "text": [
            "Accuracy of the Naive Bayes model on test set is : 79 %\n",
            "Precision of the Naive Bayes model on test set is : 86 %\n",
            "Recall of the Naive Bayes model on test set is : 71 %\n",
            "F1 Score of the Naive Bayes model on test set is : 78 %\n"
          ]
        }
      ]
    },
    {
      "cell_type": "code",
      "source": [
        "# Generate a classification report for the Naive Bayes classifier on the test set\n",
        "cr_naive_test = classification_report(y_test, predictions_test_set)\n",
        "\n",
        "# Print the classification report\n",
        "print(\"Classification Report: \", \"\\n\", \"\\n\", cr_naive_test)\n"
      ],
      "metadata": {
        "id": "olSOj6vdcGhw",
        "colab": {
          "base_uri": "https://localhost:8080/"
        },
        "outputId": "9c86359e-c5fc-48a9-e950-4fa13e212a96"
      },
      "execution_count": 23,
      "outputs": [
        {
          "output_type": "stream",
          "name": "stdout",
          "text": [
            "Classification Report:  \n",
            " \n",
            "               precision    recall  f1-score   support\n",
            "\n",
            "           0       0.86      0.71      0.78       912\n",
            "           1       0.75      0.88      0.81       909\n",
            "\n",
            "    accuracy                           0.79      1821\n",
            "   macro avg       0.80      0.79      0.79      1821\n",
            "weighted avg       0.80      0.79      0.79      1821\n",
            "\n"
          ]
        }
      ]
    },
    {
      "cell_type": "code",
      "source": [
        "# Perform 10-fold cross-validation on the Naive Bayes classifier using the testing data\n",
        "naive_accuracies_test = cross_val_score(estimator=classifier, X=x_test, y=y_test, cv=10)\n",
        "\n",
        "# Calculate the average cross-validation accuracy\n",
        "average_accuracy = naive_accuracies_test.mean()\n",
        "\n",
        "# Print the average cross-validation accuracy\n",
        "print(f\"Naive Bayes Model 10-fold cross validation score on testing set is :  {round(average_accuracy * 100)}%\")\n"
      ],
      "metadata": {
        "id": "xC4ErDdjcHfL",
        "colab": {
          "base_uri": "https://localhost:8080/"
        },
        "outputId": "c1e26701-d9ad-4264-fb80-a002054479a9"
      },
      "execution_count": 24,
      "outputs": [
        {
          "output_type": "stream",
          "name": "stdout",
          "text": [
            "Naive Bayes Model 10-fold cross validation score on testing set is :  73%\n"
          ]
        }
      ]
    },
    {
      "cell_type": "markdown",
      "source": [
        "SVM"
      ],
      "metadata": {
        "id": "2b-UVyTEkTzj"
      }
    },
    {
      "cell_type": "code",
      "source": [
        "# Import the SVC class from sklearn.svm\n",
        "from sklearn import svm\n",
        "\n",
        "# Create an instance of the SVC classifier\n",
        "classifier_svm = svm.SVC()\n",
        "\n",
        "# Train the classifier using the training data\n",
        "model_svm = classifier_svm.fit(x_train, y_train)\n",
        "\n",
        "# Make predictions on the validation data\n",
        "svm_predictions_validation_set = classifier_svm.predict(x_valid)\n",
        "\n",
        "# Evaluate the performance of the classifier using accuracy, precision, recall, and F1-score metrics\n",
        "print(\"Accuracy of the SVM model on validation set is :\", round(accuracy_score(y_valid, svm_predictions_validation_set) * 100), \"%\")\n",
        "print(\"Precision of the SVM model on validation set is :\", round(precision_score(y_valid, svm_predictions_validation_set, pos_label='0') * 100), \"%\")\n",
        "print(\"Recall of the SVM model on validation set is :\", round(recall_score(y_valid, svm_predictions_validation_set, pos_label='0') * 100), \"%\")\n",
        "print(\"F1 Score of the SVM model on validation set is :\", round(f1_score(y_valid, svm_predictions_validation_set, pos_label='0') * 100), \"%\")\n"
      ],
      "metadata": {
        "id": "nipA2h3_ke84",
        "colab": {
          "base_uri": "https://localhost:8080/"
        },
        "outputId": "602d7656-ba0a-4aa5-f216-47a97ffccb93"
      },
      "execution_count": 25,
      "outputs": [
        {
          "output_type": "stream",
          "name": "stdout",
          "text": [
            "Accuracy of the SVM model on validation set is : 79 %\n",
            "Precision of the SVM model on validation set is : 79 %\n",
            "Recall of the SVM model on validation set is : 76 %\n",
            "F1 Score of the SVM model on validation set is : 77 %\n"
          ]
        }
      ]
    },
    {
      "cell_type": "code",
      "source": [
        "# Import the classification_report function from sklearn.metrics\n",
        "from sklearn.metrics import classification_report\n",
        "\n",
        "# Generate a classification report for the SVM classifier on the validation set\n",
        "cr_svm_validation = classification_report(y_valid, svm_predictions_validation_set)\n",
        "\n",
        "# Print the classification report\n",
        "print(\"Classification Report: \", \"\\n\\n\", cr_svm_validation)\n"
      ],
      "metadata": {
        "id": "yBFK_bQclNvY",
        "colab": {
          "base_uri": "https://localhost:8080/"
        },
        "outputId": "72d84ef9-3f9b-4a89-d081-cdf247ce472d"
      },
      "execution_count": 26,
      "outputs": [
        {
          "output_type": "stream",
          "name": "stdout",
          "text": [
            "Classification Report:  \n",
            "\n",
            "               precision    recall  f1-score   support\n",
            "\n",
            "           0       0.79      0.76      0.77       667\n",
            "           1       0.78      0.82      0.80       717\n",
            "\n",
            "    accuracy                           0.79      1384\n",
            "   macro avg       0.79      0.79      0.79      1384\n",
            "weighted avg       0.79      0.79      0.79      1384\n",
            "\n"
          ]
        }
      ]
    },
    {
      "cell_type": "code",
      "source": [
        "# Import the cross_val_score function from sklearn.model_selection\n",
        "from sklearn.model_selection import cross_val_score\n",
        "\n",
        "# Perform 10-fold cross-validation on the SVM classifier using the training data\n",
        "svm_accuracies_validation = cross_val_score(estimator=classifier_svm, X=x_train, y=y_train, cv=10)\n",
        "\n",
        "# Calculate the average cross-validation accuracy\n",
        "average_accuracy = svm_accuracies_validation.mean()\n",
        "\n",
        "# Print the average cross-validation accuracy\n",
        "print(f\"SVM Model 10-fold cross validation score on training set is :  {round(average_accuracy * 100)}%\")\n"
      ],
      "metadata": {
        "id": "j0KsT4yQlXhF",
        "colab": {
          "base_uri": "https://localhost:8080/"
        },
        "outputId": "be5132a0-2a7e-4687-a869-327b8f47308d"
      },
      "execution_count": 27,
      "outputs": [
        {
          "output_type": "stream",
          "name": "stdout",
          "text": [
            "SVM Model 10-fold cross validation score on training set is :  77%\n"
          ]
        }
      ]
    },
    {
      "cell_type": "code",
      "source": [
        "svm_predictions_test_set = classifier_svm.predict(x_test)\n",
        "print (\"Accuracy : \", round(accuracy_score(y_test, svm_predictions_test_set)*100),\"%\")\n",
        "print (\"Percision: \", round(precision_score(y_test, svm_predictions_test_set, pos_label='0')*100),\"%\")\n",
        "print (\"Recall : \", round(recall_score(y_test, svm_predictions_test_set, pos_label='0')*100),\"%\")\n",
        "print (\"F1 Score : \", round(f1_score(y_test, svm_predictions_test_set, pos_label='0')*100),\"%\")"
      ],
      "metadata": {
        "colab": {
          "base_uri": "https://localhost:8080/"
        },
        "id": "1giDsYNHQgML",
        "outputId": "08e3b8e9-7c68-482d-8cc1-5e7caeb33c5a"
      },
      "execution_count": 30,
      "outputs": [
        {
          "output_type": "stream",
          "name": "stdout",
          "text": [
            "Accuracy :  79 %\n",
            "Percision:  82 %\n",
            "Recall :  75 %\n",
            "F1 Score :  78 %\n"
          ]
        }
      ]
    },
    {
      "cell_type": "code",
      "source": [
        "cr_svm_test = classification_report(y_test, svm_predictions_test_set)\n",
        "print(\"Classification Report: \", \"\\n\", \"\\n\",cr_svm_test)\n"
      ],
      "metadata": {
        "id": "cDhXL4yMlfKe",
        "colab": {
          "base_uri": "https://localhost:8080/"
        },
        "outputId": "948b8a17-cdf5-40f3-feb5-fb4313276d7e"
      },
      "execution_count": 31,
      "outputs": [
        {
          "output_type": "stream",
          "name": "stdout",
          "text": [
            "Classification Report:  \n",
            " \n",
            "               precision    recall  f1-score   support\n",
            "\n",
            "           0       0.82      0.75      0.78       912\n",
            "           1       0.77      0.84      0.80       909\n",
            "\n",
            "    accuracy                           0.79      1821\n",
            "   macro avg       0.80      0.79      0.79      1821\n",
            "weighted avg       0.80      0.79      0.79      1821\n",
            "\n"
          ]
        }
      ]
    },
    {
      "cell_type": "code",
      "source": [
        "# Perform 10-fold cross-validation on the SVM classifier using the testing data\n",
        "svm_accuracies_test = cross_val_score(estimator=classifier_svm, X=x_test, y=y_test, cv=10)\n",
        "\n",
        "# Calculate the average cross-validation accuracy\n",
        "average_accuracy = svm_accuracies_test.mean()\n",
        "\n",
        "# Print the average cross-validation accuracy\n",
        "print(f\"SVM Model 10-fold cross validation score on testing set is : {round(average_accuracy * 100)}%\")\n"
      ],
      "metadata": {
        "id": "WpA8TzRnlv8v",
        "colab": {
          "base_uri": "https://localhost:8080/"
        },
        "outputId": "d7f6ae3a-6324-459c-b16c-72a664ddb355"
      },
      "execution_count": 32,
      "outputs": [
        {
          "output_type": "stream",
          "name": "stdout",
          "text": [
            "SVM Model 10-fold cross validation score on testing set is : 72%\n"
          ]
        }
      ]
    },
    {
      "cell_type": "markdown",
      "source": [
        "## KNN"
      ],
      "metadata": {
        "id": "7Pw4-iuQl7pt"
      }
    },
    {
      "cell_type": "code",
      "source": [
        "# Import the KNeighborsClassifier class from sklearn.neighbors\n",
        "from sklearn.neighbors import KNeighborsClassifier\n",
        "\n",
        "# Create an instance of the KNeighborsClassifier classifier with k=15\n",
        "classifier_knn = KNeighborsClassifier(n_neighbors=15)\n",
        "\n",
        "# Train the classifier using the training data\n",
        "model_knn = classifier_knn.fit(x_train, y_train)\n",
        "\n",
        "# Make predictions on the validation data\n",
        "knn_predictions_validation_set = classifier_knn.predict(x_valid)\n",
        "\n",
        "# Evaluate the performance of the classifier using accuracy, precision, recall, and F1-score metrics\n",
        "print(\"Accuracy of the KNN model on validation set is :\", round(accuracy_score(y_valid, knn_predictions_validation_set) * 100), \"%\")\n",
        "print(\"Precision of the KNN model on validation set is :\", round(precision_score(y_valid, knn_predictions_validation_set, pos_label='0') * 100), \"%\")\n",
        "print(\"Recall of the KNN model on validation set is :\", round(recall_score(y_valid, knn_predictions_validation_set, pos_label='0') * 100), \"%\")\n",
        "print(\"F1 Score of the KNN model on validation set is :\", round(f1_score(y_valid, knn_predictions_validation_set, pos_label='0') * 100), \"%\")\n"
      ],
      "metadata": {
        "id": "vWPA41O0nFzu",
        "colab": {
          "base_uri": "https://localhost:8080/"
        },
        "outputId": "bcd4f82e-68a5-4cb1-be29-3c6b1cbcbc1d"
      },
      "execution_count": 33,
      "outputs": [
        {
          "output_type": "stream",
          "name": "stdout",
          "text": [
            "Accuracy of the KNN model on validation set is : 74 %\n",
            "Precision of the KNN model on validation set is : 71 %\n",
            "Recall of the KNN model on validation set is : 78 %\n",
            "F1 Score of the KNN model on validation set is : 74 %\n"
          ]
        }
      ]
    },
    {
      "cell_type": "code",
      "source": [
        "# Import the classification_report function from sklearn.metrics\n",
        "from sklearn.metrics import classification_report\n",
        "\n",
        "# Generate a classification report for the KNN classifier on the validation set\n",
        "cr_knn_validation = classification_report(y_valid, knn_predictions_validation_set)\n",
        "\n",
        "# Print the classification report\n",
        "print(\"Classification Report: \", \"\\n\\n\", cr_knn_validation)\n"
      ],
      "metadata": {
        "id": "mJi1D-adnKwl",
        "colab": {
          "base_uri": "https://localhost:8080/"
        },
        "outputId": "60daf4e0-2fe7-48ea-b30c-d601504271b5"
      },
      "execution_count": 34,
      "outputs": [
        {
          "output_type": "stream",
          "name": "stdout",
          "text": [
            "Classification Report:  \n",
            "\n",
            "               precision    recall  f1-score   support\n",
            "\n",
            "           0       0.71      0.78      0.74       667\n",
            "           1       0.77      0.71      0.74       717\n",
            "\n",
            "    accuracy                           0.74      1384\n",
            "   macro avg       0.74      0.74      0.74      1384\n",
            "weighted avg       0.74      0.74      0.74      1384\n",
            "\n"
          ]
        }
      ]
    },
    {
      "cell_type": "code",
      "source": [
        "# Import the cross_val_score function from sklearn.model_selection\n",
        "from sklearn.model_selection import cross_val_score\n",
        "\n",
        "# Perform 10-fold cross-validation on the KNN classifier using the training data\n",
        "knn_accuracies_validation = cross_val_score(estimator=classifier_knn, X=x_train, y=y_train, cv=10)\n",
        "\n",
        "# Calculate the average cross-validation accuracy\n",
        "average_accuracy = knn_accuracies_validation.mean()\n",
        "\n",
        "# Print the average cross-validation accuracy\n",
        "print(f\"KNN Model 10-fold cross validation score on training set is :  {round(average_accuracy * 100)}%\")\n"
      ],
      "metadata": {
        "id": "E9uXKWT8nbQt",
        "colab": {
          "base_uri": "https://localhost:8080/"
        },
        "outputId": "091226ba-46bc-42d4-e073-e71ad993e2a1"
      },
      "execution_count": 35,
      "outputs": [
        {
          "output_type": "stream",
          "name": "stdout",
          "text": [
            "KNN Model 10-fold cross validation score on training set is :  70%\n"
          ]
        }
      ]
    },
    {
      "cell_type": "code",
      "source": [
        "# Make predictions on the test data using the KNN classifier\n",
        "knn_predictions_test_set = classifier_knn.predict(x_test)\n",
        "\n",
        "# Evaluate the performance of the classifier on the test data using accuracy, precision, recall, and F1-score metrics\n",
        "print(\"Accuracy of the KNN model on test set is :\", round(accuracy_score(y_test, knn_predictions_test_set) * 100), \"%\")\n",
        "print(\"Precision of the KNN model on test set is :\", round(precision_score(y_test, knn_predictions_test_set, pos_label='0') * 100), \"%\")\n",
        "print(\"Recall of the KNN model on test set is :\", round(recall_score(y_test, knn_predictions_test_set, pos_label='0') * 100), \"%\")\n",
        "print(\"F1 Score of the KNN model on test set is :\", round(f1_score(y_test, knn_predictions_test_set, pos_label='0') * 100), \"%\")\n"
      ],
      "metadata": {
        "id": "yKSZlg5MnjYs",
        "colab": {
          "base_uri": "https://localhost:8080/"
        },
        "outputId": "f1ac8712-f053-41ac-d83a-7efdad52eba6"
      },
      "execution_count": 36,
      "outputs": [
        {
          "output_type": "stream",
          "name": "stdout",
          "text": [
            "Accuracy of the KNN model on test set is : 73 %\n",
            "Precision of the KNN model on test set is : 71 %\n",
            "Recall of the KNN model on test set is : 77 %\n",
            "F1 Score of the KNN model on test set is : 74 %\n"
          ]
        }
      ]
    },
    {
      "cell_type": "code",
      "source": [
        "# Generate a classification report for the KNN classifier on the test set\n",
        "cr_knn_test = classification_report(y_test, knn_predictions_test_set)\n",
        "\n",
        "# Print the classification report\n",
        "print(\"Classification Report: \", \"\\n\\n\", cr_knn_test)\n"
      ],
      "metadata": {
        "id": "Fp6TO7w0nq93",
        "colab": {
          "base_uri": "https://localhost:8080/"
        },
        "outputId": "ae6a0a87-bf60-4c95-8ad8-eee4f013a573"
      },
      "execution_count": 37,
      "outputs": [
        {
          "output_type": "stream",
          "name": "stdout",
          "text": [
            "Classification Report:  \n",
            "\n",
            "               precision    recall  f1-score   support\n",
            "\n",
            "           0       0.71      0.77      0.74       912\n",
            "           1       0.75      0.69      0.72       909\n",
            "\n",
            "    accuracy                           0.73      1821\n",
            "   macro avg       0.73      0.73      0.73      1821\n",
            "weighted avg       0.73      0.73      0.73      1821\n",
            "\n"
          ]
        }
      ]
    },
    {
      "cell_type": "code",
      "source": [
        "# Perform 10-fold cross-validation on the KNN classifier using the testing data\n",
        "knn_accuracies_test = cross_val_score(estimator=classifier_knn, X=x_test, y=y_test, cv=10)\n",
        "\n",
        "# Calculate the average cross-validation accuracy\n",
        "average_accuracy = knn_accuracies_test.mean()\n",
        "\n",
        "# Print the average cross-validation accuracy\n",
        "print(f\"KNN Model 10-fold cross validation score on testing set is : {round(average_accuracy * 100)}%\")\n"
      ],
      "metadata": {
        "id": "-Dtg5aO_nyCq",
        "colab": {
          "base_uri": "https://localhost:8080/"
        },
        "outputId": "c2d9e143-e13b-4684-fd2e-58a3d839da91"
      },
      "execution_count": 38,
      "outputs": [
        {
          "output_type": "stream",
          "name": "stdout",
          "text": [
            "KNN Model 10-fold cross validation score on testing set is : 63%\n"
          ]
        }
      ]
    },
    {
      "cell_type": "markdown",
      "source": [
        "##Decision Tree"
      ],
      "metadata": {
        "id": "a4Gm_nFGn8OC"
      }
    },
    {
      "cell_type": "code",
      "source": [
        "# Import the DecisionTreeClassifier class from sklearn.tree\n",
        "from sklearn.tree import DecisionTreeClassifier\n",
        "\n",
        "# Create an instance of the DecisionTreeClassifier classifier\n",
        "classifier_dt = DecisionTreeClassifier()\n",
        "\n",
        "# Train the classifier using the training data\n",
        "model_dt = classifier_dt.fit(x_train, y_train)\n",
        "\n",
        "# Make predictions on the validation data\n",
        "dt_predictions_validation_set = classifier_dt.predict(x_valid)\n",
        "\n",
        "# Evaluate the performance of the classifier using accuracy, precision, recall, and F1-score metrics\n",
        "print(\"Accuracy of the Decison Tree Classifier model on validation set is :\", round(accuracy_score(y_valid, dt_predictions_validation_set) * 100), \"%\")\n",
        "print(\"Precision of the Decison Tree Classifier model on validation set is :\", round(precision_score(y_valid, dt_predictions_validation_set, pos_label='0') * 100), \"%\")\n",
        "print(\"Recall of the Decison Tree Classifier model on validation set is :\", round(f1_score(y_valid, dt_predictions_validation_set, pos_label='0')*100),\"%\")"
      ],
      "metadata": {
        "id": "DTfujzgXn-qS",
        "colab": {
          "base_uri": "https://localhost:8080/"
        },
        "outputId": "5a7cf46a-d057-4bd7-a7e2-d4ff51c31477"
      },
      "execution_count": 40,
      "outputs": [
        {
          "output_type": "stream",
          "name": "stdout",
          "text": [
            "Accuracy of the Decison Tree Classifier model on validation set is : 66 %\n",
            "Precision of the Decison Tree Classifier model on validation set is : 63 %\n",
            "Recall of the Decison Tree Classifier model on validation set is : 67 %\n"
          ]
        }
      ]
    },
    {
      "cell_type": "code",
      "source": [
        "# Import the classification_report function from sklearn.metrics\n",
        "from sklearn.metrics import classification_report\n",
        "\n",
        "# Generate a classification report for the Decision Tree Classifier on the validation set\n",
        "cr_dt_validation = classification_report(y_valid, dt_predictions_validation_set)\n",
        "\n",
        "# Print the classification report\n",
        "print(\"Classification Report: \", \"\\n\\n\", cr_dt_validation)\n"
      ],
      "metadata": {
        "id": "hkHLt085oKmw",
        "colab": {
          "base_uri": "https://localhost:8080/"
        },
        "outputId": "2c2007b3-5c7e-4efc-f5a5-b487fc0da627"
      },
      "execution_count": 41,
      "outputs": [
        {
          "output_type": "stream",
          "name": "stdout",
          "text": [
            "Classification Report:  \n",
            "\n",
            "               precision    recall  f1-score   support\n",
            "\n",
            "           0       0.63      0.71      0.67       667\n",
            "           1       0.69      0.61      0.65       717\n",
            "\n",
            "    accuracy                           0.66      1384\n",
            "   macro avg       0.66      0.66      0.66      1384\n",
            "weighted avg       0.66      0.66      0.66      1384\n",
            "\n"
          ]
        }
      ]
    },
    {
      "cell_type": "code",
      "source": [
        "# Import the cross_val_score function from sklearn.model_selection\n",
        "from sklearn.model_selection import cross_val_score\n",
        "\n",
        "# Perform 10-fold cross-validation on the Decision Tree Classifier using the training data\n",
        "dt_accuracies_validation = cross_val_score(estimator=classifier_dt, X=x_train, y=y_train, cv=10)\n",
        "\n",
        "# Calculate the average cross-validation accuracy\n",
        "average_accuracy = dt_accuracies_validation.mean()\n",
        "\n",
        "# Print the average cross-validation accuracy\n",
        "print(f\"Decision Tree Classifier Model 10-fold cross validation score on training set is : {round(average_accuracy * 100)}%\")\n"
      ],
      "metadata": {
        "id": "XjKlpdZ0oRgR",
        "colab": {
          "base_uri": "https://localhost:8080/"
        },
        "outputId": "f2dba8ed-75a9-422d-d86e-e40a122873b1"
      },
      "execution_count": 42,
      "outputs": [
        {
          "output_type": "stream",
          "name": "stdout",
          "text": [
            "Decision Tree Classifier Model 10-fold cross validation score on training set is : 65%\n"
          ]
        }
      ]
    },
    {
      "cell_type": "code",
      "source": [
        "# Make predictions on the test data using the Decision Tree Classifier\n",
        "dt_predictions_test_set = classifier_dt.predict(x_test)\n",
        "\n",
        "# Evaluate the performance of the classifier on the test data using accuracy, precision, recall, and F1-score metrics\n",
        "print(\"Accuracy of the Decison Tree Classifier model on test set is :\", round(accuracy_score(y_test, dt_predictions_test_set) * 100), \"%\")\n",
        "print(\"Precision of the Decison Tree Classifier model on test set is :\", round(precision_score(y_test, dt_predictions_test_set, pos_label='0') * 100), \"%\")\n",
        "print(\"Recall of the Decison Tree Classifier model on test set is :\", round(recall_score(y_test, dt_predictions_test_set, pos_label='0') * 100), \"%\")\n",
        "print(\"F1 Score of the Decison Tree Classifier model on test set is :\", round(f1_score(y_test, dt_predictions_test_set, pos_label='0')*100),\"%\")\n"
      ],
      "metadata": {
        "id": "VmDcBo9kofqD",
        "colab": {
          "base_uri": "https://localhost:8080/"
        },
        "outputId": "fe5aa59f-bb32-45f2-cd52-958de38a8a35"
      },
      "execution_count": 44,
      "outputs": [
        {
          "output_type": "stream",
          "name": "stdout",
          "text": [
            "Accuracy of the Decison Tree Classifier model on test set is : 67 %\n",
            "Precision of the Decison Tree Classifier model on test set is : 66 %\n",
            "Recall of the Decison Tree Classifier model on test set is : 71 %\n",
            "F1 Score of the Decison Tree Classifier model on test set is : 68 %\n"
          ]
        }
      ]
    },
    {
      "cell_type": "code",
      "source": [
        "# Import the classification_report function from sklearn.metrics\n",
        "from sklearn.metrics import classification_report\n",
        "\n",
        "# Generate a classification report for the Decision Tree Classifier on the test set\n",
        "cr_dt_test = classification_report(y_test, dt_predictions_test_set)\n",
        "\n",
        "# Print the classification report\n",
        "print(\"Classification Report: \", \"\\n\\n\", cr_dt_test)\n"
      ],
      "metadata": {
        "id": "tanEy7h1oowV",
        "colab": {
          "base_uri": "https://localhost:8080/"
        },
        "outputId": "d9a66070-7361-4f81-b866-4c95c11bbe48"
      },
      "execution_count": 45,
      "outputs": [
        {
          "output_type": "stream",
          "name": "stdout",
          "text": [
            "Classification Report:  \n",
            "\n",
            "               precision    recall  f1-score   support\n",
            "\n",
            "           0       0.66      0.71      0.68       912\n",
            "           1       0.68      0.64      0.66       909\n",
            "\n",
            "    accuracy                           0.67      1821\n",
            "   macro avg       0.67      0.67      0.67      1821\n",
            "weighted avg       0.67      0.67      0.67      1821\n",
            "\n"
          ]
        }
      ]
    },
    {
      "cell_type": "code",
      "source": [
        "# Import the cross_val_score function from sklearn.model_selection\n",
        "from sklearn.model_selection import cross_val_score\n",
        "\n",
        "# Perform 10-fold cross-validation on the Decision Tree Classifier using the testing data\n",
        "dt_accuracies_test = cross_val_score(estimator=classifier_dt, X=x_test, y=y_test, cv=10)\n",
        "\n",
        "# Calculate the average cross-validation accuracy\n",
        "average_accuracy = dt_accuracies_test.mean()\n",
        "\n",
        "# Print the average cross-validation accuracy\n",
        "print(f\"Decision Tree Classifier Model 10-fold cross validation score on testing set is : {round(average_accuracy * 100)}%\")\n"
      ],
      "metadata": {
        "id": "CgxxhBAmo3Mu",
        "colab": {
          "base_uri": "https://localhost:8080/"
        },
        "outputId": "af99d17a-6c43-4d60-a08e-2723eef7ab67"
      },
      "execution_count": 46,
      "outputs": [
        {
          "output_type": "stream",
          "name": "stdout",
          "text": [
            "Decision Tree Classifier Model 10-fold cross validation score on testing set is : 63%\n"
          ]
        }
      ]
    },
    {
      "cell_type": "markdown",
      "source": [
        "## Randomforest"
      ],
      "metadata": {
        "id": "21_6iGv4pCMe"
      }
    },
    {
      "cell_type": "code",
      "source": [
        "# Import the RandomForestClassifier class from sklearn.ensemble\n",
        "from sklearn.ensemble import RandomForestClassifier\n",
        "\n",
        "# Create an instance of the RandomForestClassifier classifier\n",
        "classifier_rf = RandomForestClassifier()\n",
        "\n",
        "# Train the classifier using the training data\n",
        "model_rf = classifier_rf.fit(x_train, y_train)\n",
        "\n",
        "# Make predictions on the validation data\n",
        "rf_predictions_validation_set = classifier_rf.predict(x_valid)\n",
        "\n",
        "# Evaluate the performance of the classifier using accuracy, precision, recall, and F1-score metrics\n",
        "print(\"Accuracy of the Random Forest Classifier model on validation set is :\", round(accuracy_score(y_valid, rf_predictions_validation_set) * 100), \"%\")\n",
        "print(\"Precision of the Random Forest Classifier model on validation set is :\", round(precision_score(y_valid, rf_predictions_validation_set, pos_label='0') * 100), \"%\")\n",
        "print(\"Recall of the Random Forest Classifier model on validation set is :\", round(recall_score(y_valid, rf_predictions_validation_set, pos_label='0') * 100), \"%\")\n",
        "print(\"F1 Score of the Random Forest Classifier model on validation set is :\", round(f1_score(y_valid, rf_predictions_validation_set, pos_label='0') * 100), \"%\")\n"
      ],
      "metadata": {
        "id": "wiC58NXCpC4q",
        "colab": {
          "base_uri": "https://localhost:8080/"
        },
        "outputId": "e4e5e273-644c-4404-dcd5-289e07611ff2"
      },
      "execution_count": 47,
      "outputs": [
        {
          "output_type": "stream",
          "name": "stdout",
          "text": [
            "Accuracy of the Random Forest Classifier model on validation set is : 72 %\n",
            "Precision of the Random Forest Classifier model on validation set is : 71 %\n",
            "Recall of the Random Forest Classifier model on validation set is : 72 %\n",
            "F1 Score of the Random Forest Classifier model on validation set is : 72 %\n"
          ]
        }
      ]
    },
    {
      "cell_type": "code",
      "source": [
        "# Import the classification_report function from sklearn.metrics\n",
        "from sklearn.metrics import classification_report\n",
        "\n",
        "# Generate a classification report for the Random Forest Classifier on the validation set\n",
        "cr_rf_validation = classification_report(y_valid, rf_predictions_validation_set)\n",
        "\n",
        "# Print the classification report\n",
        "print(\"Classification Report: \", \"\\n\\n\", cr_rf_validation)\n"
      ],
      "metadata": {
        "id": "WqE5ZNdmpahH",
        "colab": {
          "base_uri": "https://localhost:8080/"
        },
        "outputId": "1bdf57ec-f62c-4b82-d345-da17eef162f6"
      },
      "execution_count": 48,
      "outputs": [
        {
          "output_type": "stream",
          "name": "stdout",
          "text": [
            "Classification Report:  \n",
            "\n",
            "               precision    recall  f1-score   support\n",
            "\n",
            "           0       0.71      0.72      0.72       667\n",
            "           1       0.74      0.73      0.73       717\n",
            "\n",
            "    accuracy                           0.72      1384\n",
            "   macro avg       0.72      0.72      0.72      1384\n",
            "weighted avg       0.72      0.72      0.72      1384\n",
            "\n"
          ]
        }
      ]
    },
    {
      "cell_type": "code",
      "source": [
        "# Import the cross_val_score function from sklearn.model_selection\n",
        "from sklearn.model_selection import cross_val_score\n",
        "\n",
        "# Perform 10-fold cross-validation on the Random Forest Classifier using the training data\n",
        "rf_accuracies_validation = cross_val_score(estimator=classifier_rf, X=x_train, y=y_train, cv=10)\n",
        "\n",
        "# Calculate the average cross-validation accuracy\n",
        "average_accuracy = rf_accuracies_validation.mean()\n",
        "\n",
        "# Print the average cross-validation accuracy\n",
        "print(f\"Random Forest Classifier Model 10-fold cross validation score on training set is : {round(average_accuracy * 100)}%\")\n"
      ],
      "metadata": {
        "id": "rrJTYwEEpiP9",
        "colab": {
          "base_uri": "https://localhost:8080/"
        },
        "outputId": "0a44b02e-4b1d-42a1-ac93-91dfab4646b1"
      },
      "execution_count": 49,
      "outputs": [
        {
          "output_type": "stream",
          "name": "stdout",
          "text": [
            "Random Forest Classifier Model 10-fold cross validation score on training set is : 72%\n"
          ]
        }
      ]
    },
    {
      "cell_type": "code",
      "source": [
        "# Make predictions on the test data using the Random Forest Classifier\n",
        "rf_predictions_test_set = classifier_rf.predict(x_test)\n",
        "\n",
        "# Evaluate the performance of the classifier on the test data using accuracy, precision, recall, and F1-score metrics\n",
        "print(\"Accuracy of the Random Forest Classifier model on test set is :\", round(accuracy_score(y_test, rf_predictions_test_set) * 100), \"%\")\n",
        "print(\"Precision of the Random Forest Classifier model on test set is :\", round(precision_score(y_test, rf_predictions_test_set, pos_label='0') * 100), \"%\")\n",
        "print(\"Recall of the Random Forest Classifier model on test set is :\", round(recall_score(y_test, rf_predictions_test_set, pos_label='0') * 100), \"%\")\n",
        "print(\"F1 Score of the Random Forest Classifier model on test set is :\", round(f1_score(y_test, rf_predictions_test_set, pos_label='0') * 100), \"%\")\n"
      ],
      "metadata": {
        "id": "6wudFZzEpr55",
        "colab": {
          "base_uri": "https://localhost:8080/"
        },
        "outputId": "a1e97dc9-1a4e-45db-a807-e5b571f56f62"
      },
      "execution_count": 50,
      "outputs": [
        {
          "output_type": "stream",
          "name": "stdout",
          "text": [
            "Accuracy of the Random Forest Classifier model on test set is : 75 %\n",
            "Precision of the Random Forest Classifier model on test set is : 74 %\n",
            "Recall of the Random Forest Classifier model on test set is : 76 %\n",
            "F1 Score of the Random Forest Classifier model on test set is : 75 %\n"
          ]
        }
      ]
    },
    {
      "cell_type": "code",
      "source": [
        "# Import the classification_report function from sklearn.metrics\n",
        "from sklearn.metrics import classification_report\n",
        "\n",
        "# Generate a classification report for the Random Forest Classifier on the test set\n",
        "cr_rf_test = classification_report(y_test, rf_predictions_test_set)\n",
        "\n",
        "# Print the classification report\n",
        "print(\"Classification Report: \", \"\\n\\n\", cr_rf_test)\n"
      ],
      "metadata": {
        "id": "zkP440Ydp0_f",
        "colab": {
          "base_uri": "https://localhost:8080/"
        },
        "outputId": "3eed1976-38c8-416b-d7a7-d2efe68b82d5"
      },
      "execution_count": 51,
      "outputs": [
        {
          "output_type": "stream",
          "name": "stdout",
          "text": [
            "Classification Report:  \n",
            "\n",
            "               precision    recall  f1-score   support\n",
            "\n",
            "           0       0.74      0.76      0.75       912\n",
            "           1       0.75      0.73      0.74       909\n",
            "\n",
            "    accuracy                           0.75      1821\n",
            "   macro avg       0.75      0.75      0.75      1821\n",
            "weighted avg       0.75      0.75      0.75      1821\n",
            "\n"
          ]
        }
      ]
    },
    {
      "cell_type": "code",
      "source": [
        "# Import the cross_val_score function from sklearn.model_selection\n",
        "from sklearn.model_selection import cross_val_score\n",
        "\n",
        "# Perform 10-fold cross-validation on the Random Forest Classifier using the testing data\n",
        "rf_accuracies_test = cross_val_score(estimator=classifier_rf, X=x_test, y=y_test, cv=10)\n",
        "\n",
        "# Calculate the average cross-validation accuracy\n",
        "average_accuracy = rf_accuracies_test.mean()\n",
        "\n",
        "# Print the average cross-validation accuracy\n",
        "print(f\"Random Forest Classifier Model 10-fold cross validation score on testing set is : {round(average_accuracy * 100)}%\")\n"
      ],
      "metadata": {
        "id": "fEwyGi5Zp9Px",
        "colab": {
          "base_uri": "https://localhost:8080/"
        },
        "outputId": "2d3d5b56-f453-4721-b6ad-3249d85866f4"
      },
      "execution_count": 52,
      "outputs": [
        {
          "output_type": "stream",
          "name": "stdout",
          "text": [
            "Random Forest Classifier Model 10-fold cross validation score on testing set is : 65%\n"
          ]
        }
      ]
    },
    {
      "cell_type": "markdown",
      "metadata": {
        "id": "f32GWnRbR_44"
      },
      "source": [
        "(20 points) The purpose of the question is to practice different machine learning algorithms for text clustering\n",
        "Please downlad the dataset by using the following link.  https://www.kaggle.com/PromptCloudHQ/amazon-reviews-unlocked-mobile-phones\n",
        "(You can also use different text data which you want)\n",
        "\n",
        "Apply the listed clustering methods to the dataset:\n",
        "\n",
        "K-means\n",
        "\n",
        "DBSCAN\n",
        "\n",
        "Hierarchical clustering\n",
        "\n",
        "Word2Vec\n",
        "\n",
        "BERT\n",
        "\n",
        "You can refer to of the codes from  the follwing link below.\n",
        "https://www.kaggle.com/karthik3890/text-clustering"
      ]
    },
    {
      "cell_type": "markdown",
      "source": [
        "##K-means"
      ],
      "metadata": {
        "id": "2tB6bFzmsAjG"
      }
    },
    {
      "cell_type": "code",
      "source": [
        "import pandas as pd\n",
        "\n",
        "# Read the CSV file into a DataFrame\n",
        "df = pd.read_csv('Amazon_Unlocked_Mobile.csv')\n",
        "\n",
        "# Display the first 5 rows of the DataFrame\n",
        "df.head()"
      ],
      "metadata": {
        "id": "JnNstVkDsmWW",
        "colab": {
          "base_uri": "https://localhost:8080/",
          "height": 206
        },
        "outputId": "b5d2cf09-e81b-4ec9-aefc-e8baec0fe3aa"
      },
      "execution_count": 2,
      "outputs": [
        {
          "output_type": "execute_result",
          "data": {
            "text/plain": [
              "                                        Product Name Brand Name   Price  \\\n",
              "0  \"CLEAR CLEAN ESN\" Sprint EPIC 4G Galaxy SPH-D7...    Samsung  199.99   \n",
              "1  \"CLEAR CLEAN ESN\" Sprint EPIC 4G Galaxy SPH-D7...    Samsung  199.99   \n",
              "2  \"CLEAR CLEAN ESN\" Sprint EPIC 4G Galaxy SPH-D7...    Samsung  199.99   \n",
              "3  \"CLEAR CLEAN ESN\" Sprint EPIC 4G Galaxy SPH-D7...    Samsung  199.99   \n",
              "4  \"CLEAR CLEAN ESN\" Sprint EPIC 4G Galaxy SPH-D7...    Samsung  199.99   \n",
              "\n",
              "   Rating                                            Reviews  Review Votes  \n",
              "0       5  I feel so LUCKY to have found this used (phone...           1.0  \n",
              "1       4  nice phone, nice up grade from my pantach revu...           0.0  \n",
              "2       5                                       Very pleased           0.0  \n",
              "3       4  It works good but it goes slow sometimes but i...           0.0  \n",
              "4       4  Great phone to replace my lost phone. The only...           0.0  "
            ],
            "text/html": [
              "\n",
              "  <div id=\"df-8f314b20-33aa-4658-b9a3-0f04446d2cfc\" class=\"colab-df-container\">\n",
              "    <div>\n",
              "<style scoped>\n",
              "    .dataframe tbody tr th:only-of-type {\n",
              "        vertical-align: middle;\n",
              "    }\n",
              "\n",
              "    .dataframe tbody tr th {\n",
              "        vertical-align: top;\n",
              "    }\n",
              "\n",
              "    .dataframe thead th {\n",
              "        text-align: right;\n",
              "    }\n",
              "</style>\n",
              "<table border=\"1\" class=\"dataframe\">\n",
              "  <thead>\n",
              "    <tr style=\"text-align: right;\">\n",
              "      <th></th>\n",
              "      <th>Product Name</th>\n",
              "      <th>Brand Name</th>\n",
              "      <th>Price</th>\n",
              "      <th>Rating</th>\n",
              "      <th>Reviews</th>\n",
              "      <th>Review Votes</th>\n",
              "    </tr>\n",
              "  </thead>\n",
              "  <tbody>\n",
              "    <tr>\n",
              "      <th>0</th>\n",
              "      <td>\"CLEAR CLEAN ESN\" Sprint EPIC 4G Galaxy SPH-D7...</td>\n",
              "      <td>Samsung</td>\n",
              "      <td>199.99</td>\n",
              "      <td>5</td>\n",
              "      <td>I feel so LUCKY to have found this used (phone...</td>\n",
              "      <td>1.0</td>\n",
              "    </tr>\n",
              "    <tr>\n",
              "      <th>1</th>\n",
              "      <td>\"CLEAR CLEAN ESN\" Sprint EPIC 4G Galaxy SPH-D7...</td>\n",
              "      <td>Samsung</td>\n",
              "      <td>199.99</td>\n",
              "      <td>4</td>\n",
              "      <td>nice phone, nice up grade from my pantach revu...</td>\n",
              "      <td>0.0</td>\n",
              "    </tr>\n",
              "    <tr>\n",
              "      <th>2</th>\n",
              "      <td>\"CLEAR CLEAN ESN\" Sprint EPIC 4G Galaxy SPH-D7...</td>\n",
              "      <td>Samsung</td>\n",
              "      <td>199.99</td>\n",
              "      <td>5</td>\n",
              "      <td>Very pleased</td>\n",
              "      <td>0.0</td>\n",
              "    </tr>\n",
              "    <tr>\n",
              "      <th>3</th>\n",
              "      <td>\"CLEAR CLEAN ESN\" Sprint EPIC 4G Galaxy SPH-D7...</td>\n",
              "      <td>Samsung</td>\n",
              "      <td>199.99</td>\n",
              "      <td>4</td>\n",
              "      <td>It works good but it goes slow sometimes but i...</td>\n",
              "      <td>0.0</td>\n",
              "    </tr>\n",
              "    <tr>\n",
              "      <th>4</th>\n",
              "      <td>\"CLEAR CLEAN ESN\" Sprint EPIC 4G Galaxy SPH-D7...</td>\n",
              "      <td>Samsung</td>\n",
              "      <td>199.99</td>\n",
              "      <td>4</td>\n",
              "      <td>Great phone to replace my lost phone. The only...</td>\n",
              "      <td>0.0</td>\n",
              "    </tr>\n",
              "  </tbody>\n",
              "</table>\n",
              "</div>\n",
              "    <div class=\"colab-df-buttons\">\n",
              "\n",
              "  <div class=\"colab-df-container\">\n",
              "    <button class=\"colab-df-convert\" onclick=\"convertToInteractive('df-8f314b20-33aa-4658-b9a3-0f04446d2cfc')\"\n",
              "            title=\"Convert this dataframe to an interactive table.\"\n",
              "            style=\"display:none;\">\n",
              "\n",
              "  <svg xmlns=\"http://www.w3.org/2000/svg\" height=\"24px\" viewBox=\"0 -960 960 960\">\n",
              "    <path d=\"M120-120v-720h720v720H120Zm60-500h600v-160H180v160Zm220 220h160v-160H400v160Zm0 220h160v-160H400v160ZM180-400h160v-160H180v160Zm440 0h160v-160H620v160ZM180-180h160v-160H180v160Zm440 0h160v-160H620v160Z\"/>\n",
              "  </svg>\n",
              "    </button>\n",
              "\n",
              "  <style>\n",
              "    .colab-df-container {\n",
              "      display:flex;\n",
              "      gap: 12px;\n",
              "    }\n",
              "\n",
              "    .colab-df-convert {\n",
              "      background-color: #E8F0FE;\n",
              "      border: none;\n",
              "      border-radius: 50%;\n",
              "      cursor: pointer;\n",
              "      display: none;\n",
              "      fill: #1967D2;\n",
              "      height: 32px;\n",
              "      padding: 0 0 0 0;\n",
              "      width: 32px;\n",
              "    }\n",
              "\n",
              "    .colab-df-convert:hover {\n",
              "      background-color: #E2EBFA;\n",
              "      box-shadow: 0px 1px 2px rgba(60, 64, 67, 0.3), 0px 1px 3px 1px rgba(60, 64, 67, 0.15);\n",
              "      fill: #174EA6;\n",
              "    }\n",
              "\n",
              "    .colab-df-buttons div {\n",
              "      margin-bottom: 4px;\n",
              "    }\n",
              "\n",
              "    [theme=dark] .colab-df-convert {\n",
              "      background-color: #3B4455;\n",
              "      fill: #D2E3FC;\n",
              "    }\n",
              "\n",
              "    [theme=dark] .colab-df-convert:hover {\n",
              "      background-color: #434B5C;\n",
              "      box-shadow: 0px 1px 3px 1px rgba(0, 0, 0, 0.15);\n",
              "      filter: drop-shadow(0px 1px 2px rgba(0, 0, 0, 0.3));\n",
              "      fill: #FFFFFF;\n",
              "    }\n",
              "  </style>\n",
              "\n",
              "    <script>\n",
              "      const buttonEl =\n",
              "        document.querySelector('#df-8f314b20-33aa-4658-b9a3-0f04446d2cfc button.colab-df-convert');\n",
              "      buttonEl.style.display =\n",
              "        google.colab.kernel.accessAllowed ? 'block' : 'none';\n",
              "\n",
              "      async function convertToInteractive(key) {\n",
              "        const element = document.querySelector('#df-8f314b20-33aa-4658-b9a3-0f04446d2cfc');\n",
              "        const dataTable =\n",
              "          await google.colab.kernel.invokeFunction('convertToInteractive',\n",
              "                                                    [key], {});\n",
              "        if (!dataTable) return;\n",
              "\n",
              "        const docLinkHtml = 'Like what you see? Visit the ' +\n",
              "          '<a target=\"_blank\" href=https://colab.research.google.com/notebooks/data_table.ipynb>data table notebook</a>'\n",
              "          + ' to learn more about interactive tables.';\n",
              "        element.innerHTML = '';\n",
              "        dataTable['output_type'] = 'display_data';\n",
              "        await google.colab.output.renderOutput(dataTable, element);\n",
              "        const docLink = document.createElement('div');\n",
              "        docLink.innerHTML = docLinkHtml;\n",
              "        element.appendChild(docLink);\n",
              "      }\n",
              "    </script>\n",
              "  </div>\n",
              "\n",
              "\n",
              "<div id=\"df-43edb969-a627-46f7-af87-4cd317dd06d8\">\n",
              "  <button class=\"colab-df-quickchart\" onclick=\"quickchart('df-43edb969-a627-46f7-af87-4cd317dd06d8')\"\n",
              "            title=\"Suggest charts\"\n",
              "            style=\"display:none;\">\n",
              "\n",
              "<svg xmlns=\"http://www.w3.org/2000/svg\" height=\"24px\"viewBox=\"0 0 24 24\"\n",
              "     width=\"24px\">\n",
              "    <g>\n",
              "        <path d=\"M19 3H5c-1.1 0-2 .9-2 2v14c0 1.1.9 2 2 2h14c1.1 0 2-.9 2-2V5c0-1.1-.9-2-2-2zM9 17H7v-7h2v7zm4 0h-2V7h2v10zm4 0h-2v-4h2v4z\"/>\n",
              "    </g>\n",
              "</svg>\n",
              "  </button>\n",
              "\n",
              "<style>\n",
              "  .colab-df-quickchart {\n",
              "      --bg-color: #E8F0FE;\n",
              "      --fill-color: #1967D2;\n",
              "      --hover-bg-color: #E2EBFA;\n",
              "      --hover-fill-color: #174EA6;\n",
              "      --disabled-fill-color: #AAA;\n",
              "      --disabled-bg-color: #DDD;\n",
              "  }\n",
              "\n",
              "  [theme=dark] .colab-df-quickchart {\n",
              "      --bg-color: #3B4455;\n",
              "      --fill-color: #D2E3FC;\n",
              "      --hover-bg-color: #434B5C;\n",
              "      --hover-fill-color: #FFFFFF;\n",
              "      --disabled-bg-color: #3B4455;\n",
              "      --disabled-fill-color: #666;\n",
              "  }\n",
              "\n",
              "  .colab-df-quickchart {\n",
              "    background-color: var(--bg-color);\n",
              "    border: none;\n",
              "    border-radius: 50%;\n",
              "    cursor: pointer;\n",
              "    display: none;\n",
              "    fill: var(--fill-color);\n",
              "    height: 32px;\n",
              "    padding: 0;\n",
              "    width: 32px;\n",
              "  }\n",
              "\n",
              "  .colab-df-quickchart:hover {\n",
              "    background-color: var(--hover-bg-color);\n",
              "    box-shadow: 0 1px 2px rgba(60, 64, 67, 0.3), 0 1px 3px 1px rgba(60, 64, 67, 0.15);\n",
              "    fill: var(--button-hover-fill-color);\n",
              "  }\n",
              "\n",
              "  .colab-df-quickchart-complete:disabled,\n",
              "  .colab-df-quickchart-complete:disabled:hover {\n",
              "    background-color: var(--disabled-bg-color);\n",
              "    fill: var(--disabled-fill-color);\n",
              "    box-shadow: none;\n",
              "  }\n",
              "\n",
              "  .colab-df-spinner {\n",
              "    border: 2px solid var(--fill-color);\n",
              "    border-color: transparent;\n",
              "    border-bottom-color: var(--fill-color);\n",
              "    animation:\n",
              "      spin 1s steps(1) infinite;\n",
              "  }\n",
              "\n",
              "  @keyframes spin {\n",
              "    0% {\n",
              "      border-color: transparent;\n",
              "      border-bottom-color: var(--fill-color);\n",
              "      border-left-color: var(--fill-color);\n",
              "    }\n",
              "    20% {\n",
              "      border-color: transparent;\n",
              "      border-left-color: var(--fill-color);\n",
              "      border-top-color: var(--fill-color);\n",
              "    }\n",
              "    30% {\n",
              "      border-color: transparent;\n",
              "      border-left-color: var(--fill-color);\n",
              "      border-top-color: var(--fill-color);\n",
              "      border-right-color: var(--fill-color);\n",
              "    }\n",
              "    40% {\n",
              "      border-color: transparent;\n",
              "      border-right-color: var(--fill-color);\n",
              "      border-top-color: var(--fill-color);\n",
              "    }\n",
              "    60% {\n",
              "      border-color: transparent;\n",
              "      border-right-color: var(--fill-color);\n",
              "    }\n",
              "    80% {\n",
              "      border-color: transparent;\n",
              "      border-right-color: var(--fill-color);\n",
              "      border-bottom-color: var(--fill-color);\n",
              "    }\n",
              "    90% {\n",
              "      border-color: transparent;\n",
              "      border-bottom-color: var(--fill-color);\n",
              "    }\n",
              "  }\n",
              "</style>\n",
              "\n",
              "  <script>\n",
              "    async function quickchart(key) {\n",
              "      const quickchartButtonEl =\n",
              "        document.querySelector('#' + key + ' button');\n",
              "      quickchartButtonEl.disabled = true;  // To prevent multiple clicks.\n",
              "      quickchartButtonEl.classList.add('colab-df-spinner');\n",
              "      try {\n",
              "        const charts = await google.colab.kernel.invokeFunction(\n",
              "            'suggestCharts', [key], {});\n",
              "      } catch (error) {\n",
              "        console.error('Error during call to suggestCharts:', error);\n",
              "      }\n",
              "      quickchartButtonEl.classList.remove('colab-df-spinner');\n",
              "      quickchartButtonEl.classList.add('colab-df-quickchart-complete');\n",
              "    }\n",
              "    (() => {\n",
              "      let quickchartButtonEl =\n",
              "        document.querySelector('#df-43edb969-a627-46f7-af87-4cd317dd06d8 button');\n",
              "      quickchartButtonEl.style.display =\n",
              "        google.colab.kernel.accessAllowed ? 'block' : 'none';\n",
              "    })();\n",
              "  </script>\n",
              "</div>\n",
              "    </div>\n",
              "  </div>\n"
            ]
          },
          "metadata": {},
          "execution_count": 2
        }
      ]
    },
    {
      "cell_type": "code",
      "source": [
        "# Import the TfidfVectorizer from scikit-learn\n",
        "from sklearn.feature_extraction.text import TfidfVectorizer\n",
        "\n",
        "# Create an instance of the TfidfVectorizer\n",
        "tfidf_vect = TfidfVectorizer()\n",
        "\n",
        "# Fit the TfidfVectorizer to the 'Reviews' column\n",
        "tfidf_vects = tfidf_vect.fit_transform(df['Reviews'].values.astype('U'))\n",
        "\n",
        "# Get the feature names (vocabulary)\n",
        "names = tfidf_vect.get_feature_names()\n",
        "\n",
        "# Display the first 5 rows of the DataFrame\n",
        "df.head()\n"
      ],
      "metadata": {
        "id": "g2kTBqu0slJW",
        "colab": {
          "base_uri": "https://localhost:8080/",
          "height": 250
        },
        "outputId": "65889a70-abba-410b-caba-3588e8676e67"
      },
      "execution_count": 1,
      "outputs": [
        {
          "output_type": "error",
          "ename": "NameError",
          "evalue": "ignored",
          "traceback": [
            "\u001b[0;31m---------------------------------------------------------------------------\u001b[0m",
            "\u001b[0;31mNameError\u001b[0m                                 Traceback (most recent call last)",
            "\u001b[0;32m<ipython-input-1-52d5296ce73f>\u001b[0m in \u001b[0;36m<cell line: 8>\u001b[0;34m()\u001b[0m\n\u001b[1;32m      6\u001b[0m \u001b[0;34m\u001b[0m\u001b[0m\n\u001b[1;32m      7\u001b[0m \u001b[0;31m# Fit the TfidfVectorizer to the 'Reviews' column\u001b[0m\u001b[0;34m\u001b[0m\u001b[0;34m\u001b[0m\u001b[0m\n\u001b[0;32m----> 8\u001b[0;31m \u001b[0mtfidf_vects\u001b[0m \u001b[0;34m=\u001b[0m \u001b[0mtfidf_vect\u001b[0m\u001b[0;34m.\u001b[0m\u001b[0mfit_transform\u001b[0m\u001b[0;34m(\u001b[0m\u001b[0mdf\u001b[0m\u001b[0;34m[\u001b[0m\u001b[0;34m'Reviews'\u001b[0m\u001b[0;34m]\u001b[0m\u001b[0;34m.\u001b[0m\u001b[0mvalues\u001b[0m\u001b[0;34m.\u001b[0m\u001b[0mastype\u001b[0m\u001b[0;34m(\u001b[0m\u001b[0;34m'U'\u001b[0m\u001b[0;34m)\u001b[0m\u001b[0;34m)\u001b[0m\u001b[0;34m\u001b[0m\u001b[0;34m\u001b[0m\u001b[0m\n\u001b[0m\u001b[1;32m      9\u001b[0m \u001b[0;34m\u001b[0m\u001b[0m\n\u001b[1;32m     10\u001b[0m \u001b[0;31m# Get the feature names (vocabulary)\u001b[0m\u001b[0;34m\u001b[0m\u001b[0;34m\u001b[0m\u001b[0m\n",
            "\u001b[0;31mNameError\u001b[0m: name 'df' is not defined"
          ]
        }
      ]
    },
    {
      "cell_type": "code",
      "source": [
        "# Import the KMeans algorithm from scikit-learn\n",
        "from sklearn.cluster import KMeans\n",
        "\n",
        "# Initialize an empty list to store WCSS values\n",
        "wcss = []\n",
        "\n",
        "# Iterate over a range of cluster numbers from 2 to 11\n",
        "for i in range(2, 12):\n",
        "    # Create a KMeans object with the specified number of clusters and initialization method\n",
        "    kmeans = KMeans(n_clusters=i, init=\"k-means++\", random_state=101)\n",
        "\n",
        "    # Fit the KMeans object to the TF-IDF vectors\n",
        "    kmeans.fit(tfidf_vects)\n",
        "\n",
        "    # Calculate the within-cluster sum of squares (WCSS)\n",
        "    wcss.append(kmeans.inertia_)\n",
        "\n",
        "# Create a plot to visualize the elbow method\n",
        "plt.figure(figsize=(11, 6))\n",
        "plt.plot(range(2, 12), wcss, marker=\"o\")\n",
        "\n",
        "# Add labels and title to the plot\n",
        "plt.title(\"The Elbow Method\")\n",
        "plt.xlabel(\"Number of clusters\")\n",
        "plt.ylabel(\"WCSS\")\n"
      ],
      "metadata": {
        "id": "Y2I8jM-Assu5"
      },
      "execution_count": null,
      "outputs": []
    },
    {
      "cell_type": "code",
      "source": [
        "# Import the KMeans algorithm from scikit-learn\n",
        "from sklearn.cluster import KMeans\n",
        "\n",
        "# Create a KMeans object with 6 clusters, k-means++ initialization, 10000 maximum iterations, and a random state of 50\n",
        "model = KMeans(n_clusters=6, init='k-means++', max_iter=10000, random_state=50)\n",
        "\n",
        "# Fit the KMeans model to the TF-IDF vectors\n",
        "model.fit(tfidf_vects)\n",
        "\n",
        "# Use the Counter class to count the occurrences of each cluster label\n",
        "cluster_counts = Counter(model.labels_)\n",
        "\n",
        "# Display the cluster counts\n",
        "print(cluster_counts)\n"
      ],
      "metadata": {
        "id": "di5HS1-3s5Mz"
      },
      "execution_count": null,
      "outputs": []
    },
    {
      "cell_type": "code",
      "source": [
        "# Import the top features function from scikit-learn\n",
        "from sklearn.feature_extraction.text import TfidfVectorizer\n",
        "\n",
        "# Set the number of top words to display\n",
        "top_words = 7\n",
        "\n",
        "# Get the cluster centers\n",
        "centroids = model.cluster_centers_\n",
        "\n",
        "# Sort the cluster centers in descending order for each word\n",
        "sorted_centroids = centroids.argsort()[:, ::-1]\n",
        "\n",
        "# Iterate over each cluster\n",
        "for cluster_num in range(6):\n",
        "    # Extract the top words for the current cluster\n",
        "    key_features = [names[i] for i in sorted_centroids[cluster_num, :top_words]]\n",
        "\n",
        "    # Print the cluster number and top words\n",
        "    print('Cluster', cluster_num + 1)\n",
        "    print('Top Words:', key_features)\n"
      ],
      "metadata": {
        "id": "RA77QOrEtFUW"
      },
      "execution_count": null,
      "outputs": []
    },
    {
      "cell_type": "code",
      "source": [
        "cluster_center=model.cluster_centers_\n",
        "cluster_center"
      ],
      "metadata": {
        "id": "MAtCfDlltNgm"
      },
      "execution_count": null,
      "outputs": []
    },
    {
      "cell_type": "markdown",
      "source": [
        "## DBSCAN"
      ],
      "metadata": {
        "id": "FUPJeHYStXQT"
      }
    },
    {
      "cell_type": "code",
      "source": [
        "# Create an empty list to store reviews as word lists\n",
        "reviews = []\n",
        "\n",
        "# Iterate over the 'Reviews' column of the DataFrame and append each review as a list of words\n",
        "for review in df['Reviews']:\n",
        "    # Split the review string into a list of words using the `split()` method\n",
        "    words = str(review).split()\n",
        "    # Append the list of words to the 'reviews' list\n",
        "    reviews.append(words)\n",
        "\n",
        "# Import the Word2Vec module from Gensim\n",
        "import gensim\n",
        "\n",
        "# Create a Word2Vec model with a dimensionality of 100 and 4 workers\n",
        "w2v_model = gensim.models.Word2Vec(reviews, size=100, workers=4)\n",
        "\n",
        "# Create an empty list to store word vectors\n",
        "vectors = []\n",
        "\n",
        "# Iterate over the 'reviews' list\n",
        "for review in reviews:\n",
        "    # Create an empty vector of zeros with a dimension of 100\n",
        "    vector = np.zeros(100)\n",
        "    # Initialize a counter variable\n",
        "    count = 0\n",
        "\n",
        "    # Iterate over the words in the current review\n",
        "    for word in review:\n",
        "        try:\n",
        "            # Get the word vector from the Word2Vec model\n",
        "            vec = w2v_model.wv[word]\n",
        "\n",
        "            # Add the word vector to the current vector\n",
        "            vector += vec\n",
        "\n",
        "            # Increment the counter\n",
        "            count += 1\n",
        "        except:\n",
        "            # Skip the word if it's not in the vocabulary\n",
        "            pass\n",
        "\n",
        "    # Divide the vector by the count to get the average word vector\n",
        "    vector /= count\n",
        "\n",
        "    # Append the average word vector to the 'vectors' list\n",
        "    vectors.append(vector)\n",
        "\n",
        "# Convert the 'vectors' list to a NumPy array\n",
        "vectors = np.array(vectors)\n",
        "\n",
        "# Replace any NaN values in the vectors with 0\n",
        "vectors = np.nan_to_num(vectors)\n"
      ],
      "metadata": {
        "id": "sE3gp-iKtalu",
        "colab": {
          "base_uri": "https://localhost:8080/",
          "height": 250
        },
        "outputId": "43d5e9c6-8df2-40be-aa10-6d0dadff8804"
      },
      "execution_count": 3,
      "outputs": [
        {
          "output_type": "error",
          "ename": "NameError",
          "evalue": "ignored",
          "traceback": [
            "\u001b[0;31m---------------------------------------------------------------------------\u001b[0m",
            "\u001b[0;31mNameError\u001b[0m                                 Traceback (most recent call last)",
            "\u001b[0;32m<ipython-input-3-7b3c2a2f8217>\u001b[0m in \u001b[0;36m<cell line: 5>\u001b[0;34m()\u001b[0m\n\u001b[1;32m      3\u001b[0m \u001b[0;34m\u001b[0m\u001b[0m\n\u001b[1;32m      4\u001b[0m \u001b[0;31m# Iterate over the 'Reviews' column of the DataFrame and append each review as a list of words\u001b[0m\u001b[0;34m\u001b[0m\u001b[0;34m\u001b[0m\u001b[0m\n\u001b[0;32m----> 5\u001b[0;31m \u001b[0;32mfor\u001b[0m \u001b[0mreview\u001b[0m \u001b[0;32min\u001b[0m \u001b[0mdf\u001b[0m\u001b[0;34m[\u001b[0m\u001b[0;34m'Reviews'\u001b[0m\u001b[0;34m]\u001b[0m\u001b[0;34m:\u001b[0m\u001b[0;34m\u001b[0m\u001b[0;34m\u001b[0m\u001b[0m\n\u001b[0m\u001b[1;32m      6\u001b[0m     \u001b[0;31m# Split the review string into a list of words using the `split()` method\u001b[0m\u001b[0;34m\u001b[0m\u001b[0;34m\u001b[0m\u001b[0m\n\u001b[1;32m      7\u001b[0m     \u001b[0mwords\u001b[0m \u001b[0;34m=\u001b[0m \u001b[0mstr\u001b[0m\u001b[0;34m(\u001b[0m\u001b[0mreview\u001b[0m\u001b[0;34m)\u001b[0m\u001b[0;34m.\u001b[0m\u001b[0msplit\u001b[0m\u001b[0;34m(\u001b[0m\u001b[0;34m)\u001b[0m\u001b[0;34m\u001b[0m\u001b[0;34m\u001b[0m\u001b[0m\n",
            "\u001b[0;31mNameError\u001b[0m: name 'df' is not defined"
          ]
        }
      ]
    },
    {
      "cell_type": "code",
      "source": [
        "from sklearn.cluster import DBSCAN\n",
        "\n",
        "minPts = 2*100\n",
        "import numpy as np\n",
        "\n",
        "# Lower bound function\n",
        "def lower_bound(nums, target):\n",
        "  l, r = 0, len(nums) - 1\n",
        "  # Binary searching\n",
        "  while l <= r:\n",
        "    mid = int(l + (r - l) / 2)\n",
        "    if nums[mid] >= target:\n",
        "      r = mid - 1\n",
        "    else:\n",
        "      l = mid + 1\n",
        "  return l\n",
        "\n",
        "def compute200thnearestneighbour(x, data):\n",
        "  dists = []\n",
        "  for val in data:\n",
        "    # computing distances\n",
        "    dist = np.sum((x - val) **2 )\n",
        "    if(len(dists) == 200 and dists[199] > dist):\n",
        "      l = int(lower_bound(dists, dist))\n",
        "      if l < 200 and l >= 0 and dists[l] > dist:\n",
        "        dists[l] = dist\n",
        "    else:\n",
        "      dists.append(dist)\n",
        "      dists.sort()\n",
        "\n",
        "  # Dist 199 contains the distance of 200th nearest neighbour.\n",
        "  return dists[199]\n",
        "\n",
        "vectors.shape\n"
      ],
      "metadata": {
        "id": "s_gx5Lcmtx2w"
      },
      "execution_count": null,
      "outputs": []
    },
    {
      "cell_type": "code",
      "source": [
        "# Define an empty list to store the 200th nearest neighbor distances\n",
        "twohundrethneigh = []\n",
        "\n",
        "# Iterate over the first 1000 vectors in the 'vectors' array\n",
        "for val in vectors[:1000]:\n",
        "    # Compute the 200th nearest neighbor distance for the current vector using the 'compute200thnearestneighbour' function\n",
        "    distance = compute200thnearestneighbour(val, vectors[:1000])\n",
        "\n",
        "    # Append the computed distance to the 'twohundrethneigh' list\n",
        "    twohundrethneigh.append(distance)\n",
        "\n",
        "# Sort the 'twohundrethneigh' list in ascending order\n",
        "twohundrethneigh.sort()\n"
      ],
      "metadata": {
        "id": "qsrLGSh8uCps"
      },
      "execution_count": null,
      "outputs": []
    },
    {
      "cell_type": "code",
      "source": [
        "# Import matplotlib for plotting\n",
        "import matplotlib.pyplot as plt\n",
        "\n",
        "# Set the figure size to 14x4 inches\n",
        "plt.figure(figsize=(14, 4))\n",
        "\n",
        "# Add a title to the plot\n",
        "plt.title(\"Elbow Method for Finding the right Eps hyperparameter\")\n",
        "\n",
        "# Plot the 200th nearest neighbor distances against the number of points\n",
        "plt.plot([x for x in range(len(twohundrethneigh))], twohundrethneigh)\n",
        "\n",
        "# Add labels to the axes\n",
        "plt.xlabel(\"Number of points\")\n",
        "plt.ylabel(\"Distance of 200th Nearest Neighbour\")\n",
        "\n",
        "# Display the plot\n",
        "plt.show()\n"
      ],
      "metadata": {
        "id": "4HPDA6D8uL8M"
      },
      "execution_count": null,
      "outputs": []
    },
    {
      "cell_type": "code",
      "source": [
        "# Create a DBSCAN model with the optimal eps value of 5 and min_samples of minPts\n",
        "model_dbs = DBSCAN(eps=5, min_samples=minPts)\n",
        "\n",
        "# Fit the model to the word vectors\n",
        "model_dbs.fit(vectors)\n"
      ],
      "metadata": {
        "id": "205b87pjuSYb"
      },
      "execution_count": null,
      "outputs": []
    },
    {
      "cell_type": "code",
      "source": [
        "# Create a new DataFrame with a column named 'DBS Cluster Label'\n",
        "df_dbs = df.copy()\n",
        "\n",
        "# Add the cluster labels to the new DataFrame\n",
        "df_dbs[\"DBS Cluster Label\"] = model_dbs.labels_\n",
        "\n",
        "# Display the new DataFrame\n",
        "df_dbs\n"
      ],
      "metadata": {
        "id": "rGkbnWI-uZu2"
      },
      "execution_count": null,
      "outputs": []
    },
    {
      "cell_type": "markdown",
      "source": [
        "## Hierarchical clustering"
      ],
      "metadata": {
        "id": "5wQJtF8VupCQ"
      }
    },
    {
      "cell_type": "code",
      "source": [
        "import scipy\n",
        "from scipy.cluster import hierarchy\n",
        "import matplotlib.pyplot as plt\n",
        "\n",
        "# Perform hierarchical clustering on the word vectors using the 'ward' linkage method\n",
        "dendro = hierarchy.dendrogram(hierarchy.linkage(vectors, method='ward'))\n",
        "\n",
        "# Draw a horizontal line at y=20 to indicate the threshold for cutting the dendrogram\n",
        "plt.axhline(y=20)\n",
        "\n",
        "# Display the dendrogram\n",
        "plt.show()\n"
      ],
      "metadata": {
        "id": "pR-hB-qXugFZ"
      },
      "execution_count": null,
      "outputs": []
    },
    {
      "cell_type": "code",
      "source": [
        "# Import the AgglomerativeClustering class from scikit-learn\n",
        "from sklearn.cluster import AgglomerativeClustering\n",
        "\n",
        "# Create an AgglomerativeClustering object with 3 clusters, using Euclidean distance as the affinity measure, and Ward linkage as the linkage criterion\n",
        "cluster = AgglomerativeClustering(n_clusters=3, affinity='euclidean', linkage='ward')\n",
        "\n",
        "# Fit the AgglomerativeClustering object to the word vectors and predict cluster labels for each vector\n",
        "Agg = cluster.fit_predict(vectors)\n"
      ],
      "metadata": {
        "id": "zBOSl3ZEuxXN"
      },
      "execution_count": null,
      "outputs": []
    },
    {
      "cell_type": "code",
      "source": [
        "# Add the cluster labels to the original DataFrame\n",
        "df['AVG-W2V Clus Label'] = cluster.labels_\n",
        "\n",
        "# Display the first 5 rows of the DataFrame\n",
        "df.head()\n"
      ],
      "metadata": {
        "id": "mu5QGSjXvAUI"
      },
      "execution_count": null,
      "outputs": []
    },
    {
      "cell_type": "code",
      "source": [
        "# Create a copy of the original DataFrame\n",
        "hier_df = df.copy()\n",
        "\n",
        "# Add the cluster labels predicted by the AgglomerativeClustering model to the copy DataFrame\n",
        "hier_df[\"Hierarchial Cluster Labels\"] = cluster.labels_\n",
        "\n",
        "# Group the DataFrame by the \"Hierarchial Cluster Labels\" column and count the number of reviews in each cluster\n",
        "cluster_counts = hier_df.groupby([\"Hierarchial Cluster Labels\"])[\"Reviews\"].count()\n",
        "\n",
        "# Display the cluster counts\n",
        "print(cluster_counts)\n"
      ],
      "metadata": {
        "id": "3eZcIIH5vG4r"
      },
      "execution_count": null,
      "outputs": []
    },
    {
      "cell_type": "markdown",
      "metadata": {
        "id": "SAVf0cjzR_45"
      },
      "source": [
        "In one paragraph, please compare the results of K-means, DBSCAN, Hierarchical clustering, Word2Vec, and BERT."
      ]
    },
    {
      "cell_type": "markdown",
      "source": [
        "The outcomes of K-means, DBSCAN, Hierarchical clustering differ from Word2Vec and BERT due to their distinct applicative realms. The former group- data analysis techniques like K-means yield defined clusters based on similarity parameters but can be compromised by outliers or varying shapes; while DBSCAN's density-centric approach excels with unconventional cluster forms yet faces difficulty in managing noise within the data. Conversely, hierarchical clustering produces a sequential structure representing multi-layered relationships however it is computationally taxing for large datasets. In contrast are natural language processing tools such as  Word2Vec that generate word vectors capturing semantic contexts albeit without regard for lexical order; compared to BERT which employs an advanced model able to perceive context along with subtle linguistic variations making it suitable for intricate tasks such as answering queries or sentiment investigation despite its more demanding computational requirements.\n"
      ],
      "metadata": {
        "id": "-V4KVHuQwE4S"
      }
    },
    {
      "cell_type": "code",
      "source": [],
      "metadata": {
        "id": "NiK55pJiCwSY"
      },
      "execution_count": null,
      "outputs": []
    }
  ],
  "metadata": {
    "kernelspec": {
      "display_name": "Python 3",
      "name": "python3"
    },
    "language_info": {
      "codemirror_mode": {
        "name": "ipython",
        "version": 3
      },
      "file_extension": ".py",
      "mimetype": "text/x-python",
      "name": "python",
      "nbconvert_exporter": "python",
      "pygments_lexer": "ipython3",
      "version": "3.9.0"
    },
    "colab": {
      "provenance": [],
      "machine_shape": "hm"
    },
    "accelerator": "TPU"
  },
  "nbformat": 4,
  "nbformat_minor": 0
}