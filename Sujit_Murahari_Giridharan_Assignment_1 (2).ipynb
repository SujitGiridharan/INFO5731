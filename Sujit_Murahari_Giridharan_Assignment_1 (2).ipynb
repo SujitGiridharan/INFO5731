{
  "cells": [
    {
      "cell_type": "markdown",
      "metadata": {
        "id": "view-in-github"
      },
      "source": [
        "<a href=\"https://colab.research.google.com/github/unt-iialab/INFO5731_Spring2020/blob/master/Assignments/INFO5731_Assignment_One.ipynb\" target=\"_parent\"><img src=\"https://colab.research.google.com/assets/colab-badge.svg\" alt=\"Open In Colab\"/></a>"
      ]
    },
    {
      "cell_type": "markdown",
      "metadata": {
        "id": "Ryk8D1Q4Wsrp"
      },
      "source": [
        "# **INFO5731 Assignment One**"
      ]
    },
    {
      "cell_type": "markdown",
      "metadata": {
        "id": "90_NR8c5XGWc"
      },
      "source": [
        "# Question 1\n",
        "\n",
        "(20 points). Write a Python program to generate 12 random numbers between 1 and 100. Sort the list of numbers in ascending order and print it out. Sort the list of numbers in descending order and print it out. Calculate the average for the group and print it out."
      ]
    },
    {
      "cell_type": "code",
      "execution_count": 13,
      "metadata": {
        "id": "5QX6bJjGWXY9",
        "colab": {
          "base_uri": "https://localhost:8080/"
        },
        "outputId": "3caa30a1-224b-4bde-82e9-42ab7755346e"
      },
      "outputs": [
        {
          "output_type": "stream",
          "name": "stdout",
          "text": [
            " The Ascending order list are [7, 11, 12, 12, 21, 27, 43, 58, 68, 79, 91, 94]\n",
            " The Decending order list are [94, 91, 79, 68, 58, 43, 27, 21, 12, 12, 11, 7]\n",
            " The Average is :  43.583333333333336\n"
          ]
        }
      ],
      "source": [
        "import random\n",
        "\n",
        "#Random numbers between 1 and 100\n",
        "random_num = [random.randint(1,100) for _ in range(12)]\n",
        "\n",
        "#Sort the list in Ascending order\n",
        "ascending = sorted(random_num)\n",
        "\n",
        "#Sort the list in Decending order\n",
        "decending =sorted(random_num,reverse= True)\n",
        "\n",
        "#Valculating the average\n",
        "average =sum(random_num) / len(random_num)\n",
        "\n",
        "print(\" The Ascending order list are\" , ascending)\n",
        "print(\" The Decending order list are\" , decending)\n",
        "print(\" The Average is : \", average)\n"
      ]
    },
    {
      "cell_type": "markdown",
      "metadata": {
        "id": "1F_PZdH9Sh49"
      },
      "source": [
        "# Question 2\n",
        "(25 points).\n",
        "\n",
        "Write a program that will do the following string formatting tasks:\n",
        "\n",
        "(1) Ask the user to enter two sentences.\n",
        "\n",
        "(2) Make each sentence into a list. Each element in the list should correspond to a word in the sentence. For example, if the sentence is \"Alas! Am I alive? This is my first python program\", the program should print out ['Alas, '!', 'Am', 'I', 'alive, '?', 'This', 'is', 'my', 'first', 'python', 'program'].\n",
        "\n",
        "(3) Compare the two sentences. Print out a list of words that occur in both sentences.\n",
        "\n",
        "(4) Remove any punctuation from the sentence and print it back out. It should remove at least the following characters, but it can remove more: period(“.”), comma (“,”), semicolon (“;”), and colon (“:”)\n",
        "\n",
        "(5) Count the number of vowels in the sentences. Print out each vowel and the number of times it appears in the sentences, such as: a:2, e:1, i:0, etc"
      ]
    },
    {
      "cell_type": "code",
      "execution_count": 21,
      "metadata": {
        "id": "Y0oOSlsOS0cq",
        "colab": {
          "base_uri": "https://localhost:8080/"
        },
        "outputId": "cdaceb05-4ed4-420a-df20-1bbeaa06e44f"
      },
      "outputs": [
        {
          "output_type": "stream",
          "name": "stdout",
          "text": [
            "Enter the First SentenceSujit! Hello, how are you?\n",
            "Enter the Second SentenceI'm good. And you?\n",
            " Printing the user Input for Sentence 1 =  Sujit! Hello, how are you?\n",
            " Printing the user Input for Sentence 2 =  I'm good. And you?\n",
            "---------------------------------------------------------------\n",
            " Spliting the list for Sentence 1 =  ['Sujit!', 'Hello,', 'how', 'are', 'you?']\n",
            " Spliting the list for Sentence 2 =  [\"I'm\", 'good.', 'And', 'you?']\n",
            "---------------------------------------------------------------\n",
            "['you?']\n",
            "Removed Puntuation for Sentence 1 =  Sujit Hello how are you\n",
            "Removed Puntuation for Sentence 2 =  Im good And you\n",
            "---------------------------------------------------------------\n"
          ]
        },
        {
          "output_type": "execute_result",
          "data": {
            "text/plain": [
              "{'u': 3, 'i': 2, 'e': 2, 'o': 6, 'a': 2}"
            ]
          },
          "metadata": {},
          "execution_count": 21
        }
      ],
      "source": [
        "import string\n",
        "# 1. ASk the user to enter two sentences\n",
        "sentence1 = input(\"Enter the First Sentence\")\n",
        "sentence2 = input (\"Enter the Second Sentence\")\n",
        "\n",
        "print(\" Printing the user Input for Sentence 1 = \", sentence1)\n",
        "print(\" Printing the user Input for Sentence 2 = \", sentence2)\n",
        "print(\"---------------------------------------------------------------\")\n",
        "\n",
        "\n",
        "# 2. Split the list into\n",
        "list1 = sentence1.split()\n",
        "list2 = sentence2.split()\n",
        "print(\" Spliting the list for Sentence 1 = \", list1)\n",
        "print(\" Spliting the list for Sentence 2 = \", list2)\n",
        "print(\"---------------------------------------------------------------\")\n",
        "\n",
        "\n",
        "\n",
        "# 3. Finding common words in both of them\n",
        "commonWords = list(set(list1) & set(list2))\n",
        "print(commonWords)\n",
        "\n",
        "#4. Removing punctuation\n",
        "removepuntuation1 = ''.join([char for char in sentence1 if char not in string.punctuation])\n",
        "removepuntuation2 = ''.join([char for char in sentence2 if char not in string.punctuation])\n",
        "print(\"Removed Puntuation for Sentence 1 = \", removepuntuation1)\n",
        "print(\"Removed Puntuation for Sentence 2 = \", removepuntuation2)\n",
        "print(\"---------------------------------------------------------------\")\n",
        "\n",
        "#5. Couting the number of vowels\n",
        "\n",
        "vowels ={}\n",
        "\n",
        "for each in (sentence1+sentence2).lower():\n",
        "  if each in 'aeiou':\n",
        "             vowels[each]=vowels.get(each,0)+1\n",
        "\n",
        "vowels\n"
      ]
    },
    {
      "cell_type": "markdown",
      "metadata": {
        "id": "CmFoI4jDS9nx"
      },
      "source": [
        "# Question 3\n",
        "\n",
        "(15 points). The formula that describes the volume V of a sphere with radius r is the following:\n",
        "\n",
        "$ V=\\frac{4}{3}\\ast\\ \\pi\\ast\\ r^3 $\n",
        "\n",
        "Write a program to calculate the value of V when r is in the range of 1–10. Output the result in the following format:\n",
        "\n",
        "\tr\tV\n",
        "\t1\t…\n",
        "\t2\t…\n",
        "\t3\t…\n"
      ]
    },
    {
      "cell_type": "code",
      "execution_count": 22,
      "metadata": {
        "id": "pEyqeioAT95b",
        "colab": {
          "base_uri": "https://localhost:8080/"
        },
        "outputId": "1e885d98-3603-4520-b151-765597ae94ce"
      },
      "outputs": [
        {
          "output_type": "stream",
          "name": "stdout",
          "text": [
            "r\tV\n"
          ]
        },
        {
          "output_type": "execute_result",
          "data": {
            "text/plain": [
              "{1: 4.1887902047863905,\n",
              " 2: 33.510321638291124,\n",
              " 3: 113.09733552923254,\n",
              " 4: 268.082573106329,\n",
              " 5: 523.5987755982989,\n",
              " 6: 904.7786842338603,\n",
              " 7: 1436.7550402417319,\n",
              " 8: 2144.660584850632,\n",
              " 9: 3053.6280592892786,\n",
              " 10: 4188.790204786391}"
            ]
          },
          "metadata": {},
          "execution_count": 22
        }
      ],
      "source": [
        "import math\n",
        "\n",
        "#To calculate the volume of a Sphere\n",
        "def sphere(r):\n",
        "  return(4/3)*math.pi*(r**3)\n",
        "\n",
        "#Calculating the volume of Sphere with raduis ranginf from 1-10\n",
        "header = \"r\\tV\"\n",
        "print(header)\n",
        "volume = {r: sphere(r) for r in range(1,11)}\n",
        "volume\n",
        "\n"
      ]
    },
    {
      "cell_type": "markdown",
      "metadata": {
        "id": "z3tBE7E-Xn5X"
      },
      "source": [
        "# Question 4\n",
        "\n",
        "(40 points). In the field of Data Science, data is often formatted as a comma-delimited (CSV) file, where each line in a file corresponds to a field's value. Refer to Chapter 9 (p. 106) for more information on comma-delimited files. To answer this question, you will need to download the file [Assignment1_denton_housing.csv](https://raw.githubusercontent.com/unt-iialab/info5731-spring2022/main/assignments/Assignment1_denton_housing.csv) included with this assignment. The file [Assignment1_denton_housing.csv](https://raw.githubusercontent.com/unt-iialab/info5731-spring2022/main/assignments/Assignment1_denton_housing.csv) contains statistics about housing in the city of Denton from 2008 to 2014. Write a program to implement the following questions.\n",
        "\n",
        "(1) (10 pts) Calculate the difference in the number of Occupied Housing Units from year to year and print it. The difference must be calculated for the consecutive years such as 2008-2009, 2009-2010 etc. Finally, print the values in the ascending order.\n",
        "\n",
        "(2) (10 pts) For all the years, calculate the percentage of housing units which are vacant an occupied. Print the results in the following format:\n",
        "\n",
        "Year Vacant Housing Units Occupied Housing Units\n",
        "\n",
        "    2008  30%   70%                          \n",
        "\t2009 ----- -----\n",
        "\t2010 ----- -----\n",
        "    2011 ----- -----\n",
        "\t2012 ----- -----\n",
        "    2013 ----- -----\n",
        "\t2014 ----- -----\n",
        "  \n",
        "  \n",
        "\n",
        "(3) (10 pts) Calculate and print the valued and years in which the highest number of housing units were vacant and occupied. Print the results in the following format:  \n",
        "\n",
        "                              Year\tValue\n",
        "\tVacant Housing Units\t  -----   -----\n",
        "\tOccupied Housing Units\t-----   -----\n",
        "\n",
        "(4) (10 pts) Calculate the harmonic mean of the total housing units and print it out. You can find the information about harmonic mean here: https://ncalculators.com/statistics/harmonic-mean-calculator.htm"
      ]
    },
    {
      "cell_type": "code",
      "execution_count": 23,
      "metadata": {
        "id": "lqGYuHBhcsRH",
        "colab": {
          "base_uri": "https://localhost:8080/"
        },
        "outputId": "769f9ec6-b2f8-4a59-d8cb-ab95d21499c4"
      },
      "outputs": [
        {
          "output_type": "execute_result",
          "data": {
            "text/plain": [
              "17    -795.0\n",
              "11    -303.0\n",
              "8     1404.0\n",
              "5     1565.0\n",
              "2     2622.0\n",
              "14    5091.0\n",
              "Name: value, dtype: float64"
            ]
          },
          "metadata": {},
          "execution_count": 23
        }
      ],
      "source": [
        "import pandas as pd\n",
        "df = pd.read_csv('Assignment1_denton_housing.csv')\n",
        "\n",
        "#1. Calculating the diff in numbers of Occuplied Housing\n",
        "\n",
        "# Filter the DataFrame to only include rows with \"Occupied Housing Units\"\n",
        "occupiedhousing = df[df['title_field'] == 'Occupied Housing Units']\n",
        "\n",
        "# Sort the DataFrame by year\n",
        "occupied_housing = occupiedhousing.sort_values('year')\n",
        "\n",
        "# Calculate the year to year differences.\n",
        "year2yeardiff = occupied_housing['value'].diff().dropna()\n",
        "\n",
        "# Sort the differences in ascending order\n",
        "year2yeardiffsorted = year2yeardiff.sort_values()\n",
        "\n",
        "\n",
        "year2yeardiffsorted\n",
        "\n"
      ]
    },
    {
      "cell_type": "code",
      "source": [
        "#2 - For all the years, calculate the percentage of housing units which are vacant an occupied.\n",
        "\n",
        "# Sort DataFrames by year\n",
        "occupiedhousing = df[df['title_field'] == 'Occupied Housing Units'].sort_values('year')\n",
        "vacanthousing = df[df['title_field'] == 'Vacant Housing Units'].sort_values('year')\n",
        "totalhousing = df[df['title_field'] == 'Total Housing Units'].sort_values('year')\n",
        "\n",
        "# Merge the DataFrames to perform calculations\n",
        "merged = pd.merge(occupied_housing, vacanthousing, on='year', suffixes=('_occ', '_vac'))\n",
        "merged = pd.merge(merged, totalhousing, on='year')\n",
        "\n",
        "# Calculate the percentages\n",
        "merged['% Occupied'] = (merged['value_occ'] / merged['value']) * 100\n",
        "merged['% Vacant'] = (merged['value_vac'] / merged['value']) * 100\n",
        "\n",
        "# Round the percentages to whole numbers\n",
        "merged['% Occupied'] = merged['% Occupied'].round().astype(int)\n",
        "merged['% Vacant'] = merged['% Vacant'].round().astype(int)\n",
        "\n",
        "# Create the output string in the desired format\n",
        "output_str = \"\"\n",
        "for index, row in merged.iterrows():\n",
        "    output_str += f\"{row['year']} {row['% Occupied']}% {row['% Vacant']}%\\n\"\n",
        "\n",
        "print(output_str)\n",
        "\n",
        "\n",
        "\n"
      ],
      "metadata": {
        "colab": {
          "base_uri": "https://localhost:8080/"
        },
        "id": "GVZj9ADp2JDc",
        "outputId": "f31bf4eb-9c81-4b56-e3db-21374c9f0aa4"
      },
      "execution_count": 24,
      "outputs": [
        {
          "output_type": "stream",
          "name": "stdout",
          "text": [
            "2008 89% 11%\n",
            "2009 91% 9%\n",
            "2010 92% 8%\n",
            "2011 91% 9%\n",
            "2012 93% 7%\n",
            "2013 91% 9%\n",
            "2014 94% 6%\n",
            "\n"
          ]
        }
      ]
    },
    {
      "cell_type": "code",
      "source": [
        "#3. Calculate and print the valued and years in which the highest number of housing units were vacant and occupied.\n",
        "vacant = df[df['title_field'] == 'Vacant Housing Units']\n",
        "occupied = df[df['title_field'] == 'Occupied Housing Units']\n",
        "\n",
        "# Find the year and value with the highest number of vacant and occupied housing units\n",
        "highestvacantinyear= vacant.loc[vacant['value'].idxmax()]\n",
        "highestvacantoccupied = occupied.loc[occupied['value'].idxmax()]\n",
        "\n",
        "# Print the results in the specified format\n",
        "print(\"                                Year     Value\")\n",
        "print(f\"Vacant Housing Units            {highestvacantinyear['year']}      {highestvacantinyear['value']}\")\n",
        "print(f\"Occupied Housing Units          {highestvacantoccupied['year']}      {highestvacantoccupied['value']}\")\n"
      ],
      "metadata": {
        "colab": {
          "base_uri": "https://localhost:8080/"
        },
        "id": "9EW0Nzgp5dmd",
        "outputId": "10b1cbaa-b5d2-4899-aa3f-b1f110888520"
      },
      "execution_count": 25,
      "outputs": [
        {
          "output_type": "stream",
          "name": "stdout",
          "text": [
            "                                Year     Value\n",
            "Vacant Housing Units            2008      4483\n",
            "Occupied Housing Units          2014      46295\n"
          ]
        }
      ]
    },
    {
      "cell_type": "code",
      "source": [
        "#4"
      ],
      "metadata": {
        "id": "ifSDFWdg--az"
      },
      "execution_count": 26,
      "outputs": []
    },
    {
      "cell_type": "code",
      "source": [
        "# Calculate the harmonic mean of total housing units\n",
        "from scipy.stats import hmean\n",
        "\n",
        "# Filter data for \"Total Housing Units\"\n",
        "totalhousingunits = df[df['title_field'] == 'Total Housing Units']['value'].values\n",
        "\n",
        "# Calculate the harmonic mean\n",
        "harmonicMean = hmean(totalhousingunits)\n",
        "\n",
        "harmonicMean\n",
        "\n"
      ],
      "metadata": {
        "colab": {
          "base_uri": "https://localhost:8080/"
        },
        "id": "_fkULHRiAcJ_",
        "outputId": "4272dcbd-456e-4e5c-876e-19540bfe1da2"
      },
      "execution_count": 27,
      "outputs": [
        {
          "output_type": "execute_result",
          "data": {
            "text/plain": [
              "44398.28543969185"
            ]
          },
          "metadata": {},
          "execution_count": 27
        }
      ]
    },
    {
      "cell_type": "code",
      "source": [],
      "metadata": {
        "id": "SnJV9tYdAgzr"
      },
      "execution_count": 20,
      "outputs": []
    }
  ],
  "metadata": {
    "colab": {
      "provenance": []
    },
    "kernelspec": {
      "display_name": "Python 3 (ipykernel)",
      "language": "python",
      "name": "python3"
    },
    "language_info": {
      "codemirror_mode": {
        "name": "ipython",
        "version": 3
      },
      "file_extension": ".py",
      "mimetype": "text/x-python",
      "name": "python",
      "nbconvert_exporter": "python",
      "pygments_lexer": "ipython3",
      "version": "3.9.12"
    }
  },
  "nbformat": 4,
  "nbformat_minor": 0
}